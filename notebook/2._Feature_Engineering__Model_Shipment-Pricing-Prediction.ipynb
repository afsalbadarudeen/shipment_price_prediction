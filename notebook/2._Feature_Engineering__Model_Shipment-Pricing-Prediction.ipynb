{
 "cells": [
  {
   "cell_type": "markdown",
   "id": "ab3c7d40",
   "metadata": {},
   "source": [
    "# Data Pre-Processing"
   ]
  },
  {
   "cell_type": "markdown",
   "id": "5b6a19ba",
   "metadata": {},
   "source": [
    "#### Import Packages and CSV"
   ]
  },
  {
   "cell_type": "code",
   "execution_count": 1,
   "id": "8a8dc9f3",
   "metadata": {},
   "outputs": [],
   "source": [
    "import pandas as pd\n",
    "import matplotlib.pyplot as plt\n",
    "import seaborn as sns\n",
    "import numpy as np\n",
    "\n",
    "import warnings\n",
    "warnings.filterwarnings(\"ignore\")\n",
    "pd.pandas.set_option(\"display.max_columns\", None)"
   ]
  },
  {
   "cell_type": "code",
   "execution_count": 3,
   "id": "e960796e",
   "metadata": {},
   "outputs": [
    {
     "data": {
      "text/html": [
       "<div>\n",
       "<style scoped>\n",
       "    .dataframe tbody tr th:only-of-type {\n",
       "        vertical-align: middle;\n",
       "    }\n",
       "\n",
       "    .dataframe tbody tr th {\n",
       "        vertical-align: top;\n",
       "    }\n",
       "\n",
       "    .dataframe thead th {\n",
       "        text-align: right;\n",
       "    }\n",
       "</style>\n",
       "<table border=\"1\" class=\"dataframe\">\n",
       "  <thead>\n",
       "    <tr style=\"text-align: right;\">\n",
       "      <th></th>\n",
       "      <th>Customer Id</th>\n",
       "      <th>Artist Name</th>\n",
       "      <th>Artist Reputation</th>\n",
       "      <th>Height</th>\n",
       "      <th>Width</th>\n",
       "      <th>Weight</th>\n",
       "      <th>Material</th>\n",
       "      <th>Price Of Sculpture</th>\n",
       "      <th>Base Shipping Price</th>\n",
       "      <th>International</th>\n",
       "      <th>Express Shipment</th>\n",
       "      <th>Installation Included</th>\n",
       "      <th>Transport</th>\n",
       "      <th>Fragile</th>\n",
       "      <th>Customer Information</th>\n",
       "      <th>Remote Location</th>\n",
       "      <th>Scheduled Date</th>\n",
       "      <th>Delivery Date</th>\n",
       "      <th>Customer Location</th>\n",
       "      <th>Cost</th>\n",
       "    </tr>\n",
       "  </thead>\n",
       "  <tbody>\n",
       "    <tr>\n",
       "      <th>0</th>\n",
       "      <td>fffe3900350033003300</td>\n",
       "      <td>Billy Jenkins</td>\n",
       "      <td>0.26</td>\n",
       "      <td>17.0</td>\n",
       "      <td>6.0</td>\n",
       "      <td>4128.0</td>\n",
       "      <td>Brass</td>\n",
       "      <td>13.91</td>\n",
       "      <td>16.27</td>\n",
       "      <td>Yes</td>\n",
       "      <td>Yes</td>\n",
       "      <td>No</td>\n",
       "      <td>Airways</td>\n",
       "      <td>No</td>\n",
       "      <td>Working Class</td>\n",
       "      <td>No</td>\n",
       "      <td>06/07/15</td>\n",
       "      <td>06/03/15</td>\n",
       "      <td>New Michelle, OH 50777</td>\n",
       "      <td>-283.29</td>\n",
       "    </tr>\n",
       "    <tr>\n",
       "      <th>1</th>\n",
       "      <td>fffe3800330031003900</td>\n",
       "      <td>Jean Bryant</td>\n",
       "      <td>0.28</td>\n",
       "      <td>3.0</td>\n",
       "      <td>3.0</td>\n",
       "      <td>61.0</td>\n",
       "      <td>Brass</td>\n",
       "      <td>6.83</td>\n",
       "      <td>15.00</td>\n",
       "      <td>No</td>\n",
       "      <td>No</td>\n",
       "      <td>No</td>\n",
       "      <td>Roadways</td>\n",
       "      <td>No</td>\n",
       "      <td>Working Class</td>\n",
       "      <td>No</td>\n",
       "      <td>03/06/17</td>\n",
       "      <td>03/05/17</td>\n",
       "      <td>New Michaelport, WY 12072</td>\n",
       "      <td>-159.96</td>\n",
       "    </tr>\n",
       "    <tr>\n",
       "      <th>2</th>\n",
       "      <td>fffe3600370035003100</td>\n",
       "      <td>Laura Miller</td>\n",
       "      <td>0.07</td>\n",
       "      <td>8.0</td>\n",
       "      <td>5.0</td>\n",
       "      <td>237.0</td>\n",
       "      <td>Clay</td>\n",
       "      <td>4.96</td>\n",
       "      <td>21.18</td>\n",
       "      <td>No</td>\n",
       "      <td>No</td>\n",
       "      <td>No</td>\n",
       "      <td>Roadways</td>\n",
       "      <td>Yes</td>\n",
       "      <td>Working Class</td>\n",
       "      <td>Yes</td>\n",
       "      <td>03/09/15</td>\n",
       "      <td>03/08/15</td>\n",
       "      <td>Bowmanshire, WA 19241</td>\n",
       "      <td>-154.29</td>\n",
       "    </tr>\n",
       "    <tr>\n",
       "      <th>3</th>\n",
       "      <td>fffe350031003300</td>\n",
       "      <td>Robert Chaires</td>\n",
       "      <td>0.12</td>\n",
       "      <td>9.0</td>\n",
       "      <td>NaN</td>\n",
       "      <td>NaN</td>\n",
       "      <td>Aluminium</td>\n",
       "      <td>5.81</td>\n",
       "      <td>16.31</td>\n",
       "      <td>No</td>\n",
       "      <td>No</td>\n",
       "      <td>No</td>\n",
       "      <td>NaN</td>\n",
       "      <td>No</td>\n",
       "      <td>Wealthy</td>\n",
       "      <td>Yes</td>\n",
       "      <td>05/24/15</td>\n",
       "      <td>05/20/15</td>\n",
       "      <td>East Robyn, KY 86375</td>\n",
       "      <td>-161.16</td>\n",
       "    </tr>\n",
       "    <tr>\n",
       "      <th>4</th>\n",
       "      <td>fffe3900320038003400</td>\n",
       "      <td>Rosalyn Krol</td>\n",
       "      <td>0.15</td>\n",
       "      <td>17.0</td>\n",
       "      <td>6.0</td>\n",
       "      <td>324.0</td>\n",
       "      <td>Aluminium</td>\n",
       "      <td>3.18</td>\n",
       "      <td>11.94</td>\n",
       "      <td>Yes</td>\n",
       "      <td>Yes</td>\n",
       "      <td>Yes</td>\n",
       "      <td>Airways</td>\n",
       "      <td>No</td>\n",
       "      <td>Working Class</td>\n",
       "      <td>No</td>\n",
       "      <td>12/18/16</td>\n",
       "      <td>12/14/16</td>\n",
       "      <td>Aprilside, PA 52793</td>\n",
       "      <td>-159.23</td>\n",
       "    </tr>\n",
       "  </tbody>\n",
       "</table>\n",
       "</div>"
      ],
      "text/plain": [
       "            Customer Id     Artist Name  Artist Reputation  Height  Width  \\\n",
       "0  fffe3900350033003300   Billy Jenkins               0.26    17.0    6.0   \n",
       "1  fffe3800330031003900     Jean Bryant               0.28     3.0    3.0   \n",
       "2  fffe3600370035003100    Laura Miller               0.07     8.0    5.0   \n",
       "3      fffe350031003300  Robert Chaires               0.12     9.0    NaN   \n",
       "4  fffe3900320038003400    Rosalyn Krol               0.15    17.0    6.0   \n",
       "\n",
       "   Weight   Material  Price Of Sculpture  Base Shipping Price International  \\\n",
       "0  4128.0      Brass               13.91                16.27           Yes   \n",
       "1    61.0      Brass                6.83                15.00            No   \n",
       "2   237.0       Clay                4.96                21.18            No   \n",
       "3     NaN  Aluminium                5.81                16.31            No   \n",
       "4   324.0  Aluminium                3.18                11.94           Yes   \n",
       "\n",
       "  Express Shipment Installation Included Transport Fragile  \\\n",
       "0              Yes                    No   Airways      No   \n",
       "1               No                    No  Roadways      No   \n",
       "2               No                    No  Roadways     Yes   \n",
       "3               No                    No       NaN      No   \n",
       "4              Yes                   Yes   Airways      No   \n",
       "\n",
       "  Customer Information Remote Location Scheduled Date Delivery Date  \\\n",
       "0        Working Class              No       06/07/15      06/03/15   \n",
       "1        Working Class              No       03/06/17      03/05/17   \n",
       "2        Working Class             Yes       03/09/15      03/08/15   \n",
       "3              Wealthy             Yes       05/24/15      05/20/15   \n",
       "4        Working Class              No       12/18/16      12/14/16   \n",
       "\n",
       "           Customer Location    Cost  \n",
       "0     New Michelle, OH 50777 -283.29  \n",
       "1  New Michaelport, WY 12072 -159.96  \n",
       "2      Bowmanshire, WA 19241 -154.29  \n",
       "3       East Robyn, KY 86375 -161.16  \n",
       "4        Aprilside, PA 52793 -159.23  "
      ]
     },
     "execution_count": 3,
     "metadata": {},
     "output_type": "execute_result"
    }
   ],
   "source": [
    "df = pd.read_csv('../data/train.csv')\n",
    "df.head()"
   ]
  },
  {
   "cell_type": "markdown",
   "id": "4a93ea0d",
   "metadata": {},
   "source": [
    "## Data Cleaning"
   ]
  },
  {
   "cell_type": "markdown",
   "id": "864f8f2f",
   "metadata": {},
   "source": [
    "#### Check Null Values"
   ]
  },
  {
   "cell_type": "code",
   "execution_count": 4,
   "id": "7174859f",
   "metadata": {},
   "outputs": [
    {
     "name": "stdout",
     "output_type": "stream",
     "text": [
      "Artist Reputation 11.53846 % missing values\n",
      "Height 5.76923 % missing values\n",
      "Width 8.98462 % missing values\n",
      "Weight 9.03077 % missing values\n",
      "Material 11.75385 % missing values\n",
      "Transport 21.41538 % missing values\n",
      "Remote Location 11.86154 % missing values\n"
     ]
    }
   ],
   "source": [
    "##these are the features with nan value\n",
    "features_with_na=[features for features in df.columns if df[features].isnull().sum()>=1]\n",
    "for feature in features_with_na:\n",
    "    print(feature,np.round(df[feature].isnull().mean()*100,5), '% missing values')"
   ]
  },
  {
   "cell_type": "markdown",
   "id": "9115f4cc",
   "metadata": {},
   "source": [
    "**What does NaN mean?**\n",
    "\n",
    "**Ans:** Missing Values in a DataFrame\n",
    "\n",
    "**Why might a value be missing?** \n",
    "\n",
    "**Ans:** When considering the potential impact of the missing data on the Dataset, it is important to consider the underlying reasons for why the data are missing\n",
    "Missing data are of three categories:\n",
    "* Missing completely at random (MCAR)\n",
    "* Missing at random (MAR).\n",
    "* Missing not at random (MNAR). \n",
    "\n",
    "Here it is MCAR type of missing values in dataset which are Missing completely at Random. \n",
    "\n",
    "When we make this assumption, we are assuming the missing data is completely unrelated to the other information in the data."
   ]
  },
  {
   "cell_type": "markdown",
   "id": "002c0d1f",
   "metadata": {},
   "source": [
    "#### Checking duplicated values\n"
   ]
  },
  {
   "cell_type": "code",
   "execution_count": 6,
   "id": "2b186b58",
   "metadata": {},
   "outputs": [
    {
     "data": {
      "text/plain": [
       "0"
      ]
     },
     "execution_count": 6,
     "metadata": {},
     "output_type": "execute_result"
    }
   ],
   "source": [
    "df.duplicated().sum()"
   ]
  },
  {
   "cell_type": "markdown",
   "id": "8ecbd70e",
   "metadata": {},
   "source": [
    " * There are no duplicates values in the data"
   ]
  },
  {
   "cell_type": "markdown",
   "id": "6e71bae6",
   "metadata": {},
   "source": [
    "#### Seperating Features\n"
   ]
  },
  {
   "cell_type": "code",
   "execution_count": 7,
   "id": "7cc22a53",
   "metadata": {},
   "outputs": [
    {
     "name": "stdout",
     "output_type": "stream",
     "text": [
      "We have 6 numerical features : ['Artist Reputation', 'Height', 'Width', 'Weight', 'Price Of Sculpture', 'Base Shipping Price']\n",
      "\n",
      "We have 13 Non Numeric features : ['Customer Id', 'Artist Name', 'Material', 'International', 'Express Shipment', 'Installation Included', 'Transport', 'Fragile', 'Customer Information', 'Remote Location', 'Scheduled Date', 'Delivery Date', 'Customer Location']\n"
     ]
    }
   ],
   "source": [
    "target_feature = 'Cost'\n",
    "\n",
    "# define numerical & categorical columns\n",
    "numeric_features = [feature for feature in df.columns if df[feature].dtype != 'O']\n",
    "numeric_features.remove(target_feature)\n",
    "non_numeric_features = [feature for feature in df.columns if df[feature].dtype == 'O']\n",
    "\n",
    "print('We have {} numerical features : {}'.format(len(numeric_features), numeric_features))\n",
    "print('\\nWe have {} Non Numeric features : {}'.format(len(non_numeric_features), non_numeric_features))"
   ]
  },
  {
   "cell_type": "markdown",
   "id": "a4a19751",
   "metadata": {},
   "source": [
    "Imputing null values with median to check the multicollinearity"
   ]
  },
  {
   "cell_type": "code",
   "execution_count": 8,
   "id": "212c6126",
   "metadata": {},
   "outputs": [],
   "source": [
    "df1 = df.copy()\n",
    "for i in numeric_features:\n",
    "    df1[i].fillna(df1[i].median(), inplace=True)"
   ]
  },
  {
   "cell_type": "markdown",
   "id": "07108450",
   "metadata": {},
   "source": [
    "### Multicollinearity Check\n",
    "#### Variance Inflation Factor (VIF)"
   ]
  },
  {
   "cell_type": "markdown",
   "id": "cb1dd544",
   "metadata": {},
   "source": [
    "* Multicollinearity occurs when there are two or more independent variables in a multiple regression model, which have a high correlation among themselves. When some features are highly correlated.\n",
    "* Multicollinearity can be detected using various techniques, one such technique being the Variance Inflation Factor(VIF)."
   ]
  },
  {
   "cell_type": "code",
   "execution_count": 9,
   "id": "bf4c6d4d",
   "metadata": {},
   "outputs": [
    {
     "name": "stdout",
     "output_type": "stream",
     "text": [
      "Variance Inflation Factor of Artist Reputation column is 1.01 \n",
      "\n",
      "Variance Inflation Factor of Height column is 1.01 \n",
      "\n",
      "Variance Inflation Factor of Width column is 1.02 \n",
      "\n",
      "Variance Inflation Factor of Weight column is 1.2 \n",
      "\n",
      "Variance Inflation Factor of Price Of Sculpture column is 1.3 \n",
      "\n",
      "Variance Inflation Factor of Base Shipping Price column is 1.01 \n",
      "\n"
     ]
    }
   ],
   "source": [
    "import statsmodels.api as sm\n",
    "\n",
    "for i in range(0, len(numeric_features)):\n",
    "    x = df1.loc[:, df1.columns == numeric_features[i]]\n",
    "    y = df1.Cost\n",
    "    model = sm.OLS(x,y)\n",
    "    results = model.fit()\n",
    "    rsq = results.rsquared\n",
    "    vif = round(1 / (1 - rsq), 2)\n",
    "    print(\n",
    "        \"Variance Inflation Factor of {} column is {} \\n\".format(\n",
    "            numeric_features[i], vif)\n",
    "        )\n"
   ]
  },
  {
   "cell_type": "markdown",
   "id": "10af7220",
   "metadata": {},
   "source": [
    "### Note:  All the columns has VIF around 1, so there is not severe multicollinearity"
   ]
  },
  {
   "cell_type": "code",
   "execution_count": 10,
   "id": "c24c6284",
   "metadata": {
    "scrolled": false
   },
   "outputs": [
    {
     "data": {
      "image/png": "[encoded data removed]",
      "text/plain": [
       "<Figure size 1000x600 with 1 Axes>"
      ]
     },
     "metadata": {},
     "output_type": "display_data"
    },
    {
     "data": {
      "image/png": "[encoded data removed]",
      "text/plain": [
       "<Figure size 1000x600 with 1 Axes>"
      ]
     },
     "metadata": {},
     "output_type": "display_data"
    },
    {
     "data": {
      "image/png": "[encoded data removed]",
      "text/plain": [
       "<Figure size 1000x600 with 1 Axes>"
      ]
     },
     "metadata": {},
     "output_type": "display_data"
    },
    {
     "data": {
      "image/png": "[encoded data removed]",
      "text/plain": [
       "<Figure size 1000x600 with 1 Axes>"
      ]
     },
     "metadata": {},
     "output_type": "display_data"
    },
    {
     "data": {
      "image/png": "[encoded data removed]",
      "text/plain": [
       "<Figure size 1000x600 with 1 Axes>"
      ]
     },
     "metadata": {},
     "output_type": "display_data"
    },
    {
     "data": {
      "image/png": "[encoded data removed]",
      "text/plain": [
       "<Figure size 1000x600 with 1 Axes>"
      ]
     },
     "metadata": {},
     "output_type": "display_data"
    }
   ],
   "source": [
    "for i in numeric_features:\n",
    "        plt.figure(figsize=(10,6))\n",
    "        sns.set_style('ticks')\n",
    "        ax = sns.boxplot(df1[i])"
   ]
  },
  {
   "cell_type": "code",
   "execution_count": 11,
   "id": "1623bdc8",
   "metadata": {},
   "outputs": [
    {
     "data": {
      "image/png": "[encoded data removed]",
      "text/plain": [
       "<Figure size 1500x1500 with 6 Axes>"
      ]
     },
     "metadata": {},
     "output_type": "display_data"
    }
   ],
   "source": [
    "plt.figure(figsize=(15, 15))\n",
    "plt.suptitle('Data Distribution for Numerical Features', fontsize=20, fontweight='bold', alpha=0.8, y=1.)\n",
    "\n",
    "for i in range(0, len(numeric_features)):\n",
    "    plt.subplot(5, 3, i+1)\n",
    "    sns.kdeplot(x=df[numeric_features[i]],shade=True, color='b')\n",
    "    plt.xlabel(numeric_features[i])\n",
    "    plt.tight_layout()"
   ]
  },
  {
   "cell_type": "code",
   "execution_count": 12,
   "id": "00a0b479",
   "metadata": {
    "scrolled": true
   },
   "outputs": [
    {
     "data": {
      "text/plain": [
       "Artist Reputation       0.141363\n",
       "Height                  0.594041\n",
       "Width                   1.546702\n",
       "Weight                 21.556174\n",
       "Price Of Sculpture     22.206823\n",
       "Base Shipping Price     0.918102\n",
       "dtype: float64"
      ]
     },
     "execution_count": 12,
     "metadata": {},
     "output_type": "execute_result"
    }
   ],
   "source": [
    "df[numeric_features].skew()"
   ]
  },
  {
   "cell_type": "markdown",
   "id": "c3a2caf5",
   "metadata": {},
   "source": [
    "**Insighs**\n",
    "\n",
    " - From EDA we have seen that the `Price Of Sculpture ` and `Weight` were extremely positively skewed may be because outliers\n",
    "\n",
    " - So we can handle this type of case using Power Transformer or log transformer\n",
    " \n",
    " - `Width` and `Base Shipping Price` too are slighty positively skewed but not severe as shown by skewness coefficient.\n"
   ]
  },
  {
   "cell_type": "markdown",
   "id": "3b8fcc91",
   "metadata": {},
   "source": [
    "#### Checking the power transformer on outlier columns"
   ]
  },
  {
   "cell_type": "code",
   "execution_count": 13,
   "id": "fecee44f",
   "metadata": {},
   "outputs": [],
   "source": [
    "outlier_feature = ['Price Of Sculpture', 'Weight']"
   ]
  },
  {
   "cell_type": "code",
   "execution_count": 14,
   "id": "4de72915",
   "metadata": {},
   "outputs": [],
   "source": [
    "from sklearn.preprocessing import PowerTransformer\n",
    "pt = PowerTransformer(standardize=False)\n",
    "\n",
    "outlier_data = df1[outlier_feature]"
   ]
  },
  {
   "cell_type": "code",
   "execution_count": 15,
   "id": "6eda6d41",
   "metadata": {},
   "outputs": [],
   "source": [
    "df1[outlier_feature] = pt.fit_transform(df1[outlier_feature])"
   ]
  },
  {
   "cell_type": "code",
   "execution_count": 16,
   "id": "491d4807",
   "metadata": {},
   "outputs": [],
   "source": [
    "df_outlier = pd.DataFrame(outlier_data, columns=outlier_feature)"
   ]
  },
  {
   "cell_type": "code",
   "execution_count": 17,
   "id": "dea29c4d",
   "metadata": {
    "scrolled": false
   },
   "outputs": [
    {
     "data": {
      "image/png": "[encoded data removed]",
      "text/plain": [
       "<Figure size 1500x1500 with 2 Axes>"
      ]
     },
     "metadata": {},
     "output_type": "display_data"
    }
   ],
   "source": [
    "plt.figure(figsize=(15, 15))\n",
    "plt.suptitle('Data Distribution for Numerical Features', fontsize=20, fontweight='bold', alpha=0.8, y=1.)\n",
    "\n",
    "for i in range(0, len(outlier_feature)):\n",
    "    plt.subplot(5, 3, i+1)\n",
    "    sns.histplot(x=df1[outlier_feature[i]], color='b')\n",
    "    plt.xlabel(outlier_feature[i])\n",
    "    plt.tight_layout()\n"
   ]
  },
  {
   "cell_type": "code",
   "execution_count": 18,
   "id": "ca8a3898",
   "metadata": {
    "scrolled": true
   },
   "outputs": [
    {
     "data": {
      "text/plain": [
       "Price Of Sculpture    0.478648\n",
       "Weight                0.027309\n",
       "dtype: float64"
      ]
     },
     "execution_count": 18,
     "metadata": {},
     "output_type": "execute_result"
    }
   ],
   "source": [
    "df1[outlier_feature].skew()"
   ]
  },
  {
   "cell_type": "markdown",
   "id": "2dfaf7e2",
   "metadata": {},
   "source": [
    "**Insights**\n",
    " - Power transformer does a better job at overcoming skewness and handling outliers"
   ]
  },
  {
   "cell_type": "markdown",
   "id": "d8787984",
   "metadata": {},
   "source": [
    "**Why outliers?**\n",
    "* Data Entry error : Human error. \n",
    "* Measurement error: Instrument error. \n",
    "* Natural error: it will be Real life data.\n",
    "* Intentional error: People give wrong inputs\n",
    "\n",
    "**Impact of Outliers ?**\n",
    "* Ouliers can very high impact on few Machine learning models.\n",
    "* Can Cause bias in the output."
   ]
  },
  {
   "cell_type": "code",
   "execution_count": 19,
   "id": "93bc0135",
   "metadata": {
    "scrolled": false
   },
   "outputs": [
    {
     "data": {
      "image/png": "[encoded data removed]",
      "text/plain": [
       "<Figure size 1000x600 with 1 Axes>"
      ]
     },
     "metadata": {},
     "output_type": "display_data"
    },
    {
     "data": {
      "image/png": "[encoded data removed]",
      "text/plain": [
       "<Figure size 1000x600 with 1 Axes>"
      ]
     },
     "metadata": {},
     "output_type": "display_data"
    },
    {
     "data": {
      "image/png": "[encoded data removed]",
      "text/plain": [
       "<Figure size 1000x600 with 1 Axes>"
      ]
     },
     "metadata": {},
     "output_type": "display_data"
    },
    {
     "data": {
      "image/png": "[encoded data removed]",
      "text/plain": [
       "<Figure size 1000x600 with 1 Axes>"
      ]
     },
     "metadata": {},
     "output_type": "display_data"
    },
    {
     "data": {
      "image/png": "[encoded data removed]",
      "text/plain": [
       "<Figure size 1000x600 with 1 Axes>"
      ]
     },
     "metadata": {},
     "output_type": "display_data"
    },
    {
     "data": {
      "image/png": "[encoded data removed]",
      "text/plain": [
       "<Figure size 1000x600 with 1 Axes>"
      ]
     },
     "metadata": {},
     "output_type": "display_data"
    }
   ],
   "source": [
    "for i in numeric_features:\n",
    "    plt.figure(figsize=(10,6))\n",
    "    sns.set_style('ticks')\n",
    "    ax = sns.boxplot(df1[i])"
   ]
  },
  {
   "cell_type": "markdown",
   "id": "c10fdb1b",
   "metadata": {},
   "source": [
    "#### Removing outliers from Target Column\n",
    "* Because most model would perform better on noiseless data, as Outlier might skew the findings of your model in one direction"
   ]
  },
  {
   "cell_type": "code",
   "execution_count": 20,
   "id": "b7ac8b30",
   "metadata": {
    "scrolled": false
   },
   "outputs": [
    {
     "data": {
      "image/png": "[encoded data removed]",
      "text/plain": [
       "<Figure size 1400x700 with 1 Axes>"
      ]
     },
     "metadata": {},
     "output_type": "display_data"
    }
   ],
   "source": [
    "plt.subplots(figsize=(14,7))\n",
    "sns.histplot(df['Cost'], bins=200, kde=True, color = 'b')\n",
    "plt.title(\"Cost Distribution\", weight=\"bold\",fontsize=20, pad=20)\n",
    "plt.ylabel(\"Count\", weight=\"bold\", fontsize=12)\n",
    "plt.xlabel(\"Cost price in millions\", weight=\"bold\", fontsize=12)\n",
    "plt.show()"
   ]
  },
  {
   "cell_type": "markdown",
   "id": "bbcb6472",
   "metadata": {},
   "source": [
    "Need to apply transformation to target column to make it normally distributed. we use 1p to avoid `inf` values arise dued to `0` in the target column"
   ]
  },
  {
   "cell_type": "code",
   "execution_count": 21,
   "id": "ec82c9cd",
   "metadata": {},
   "outputs": [],
   "source": [
    "df1['Cost'] = np.log1p(df1['Cost'])"
   ]
  },
  {
   "cell_type": "code",
   "execution_count": 22,
   "id": "be678743",
   "metadata": {
    "scrolled": false
   },
   "outputs": [
    {
     "data": {
      "text/plain": [
       "(array([1973., 1985.,  954.,  461.,  223.,  127.,   64.,   32.,   16.,\n",
       "           6.]),\n",
       " array([ 4.46671239,  5.64267721,  6.81864203,  7.99460685,  9.17057167,\n",
       "        10.34653649, 11.5225013 , 12.69846612, 13.87443094, 15.05039576,\n",
       "        16.22636058]),\n",
       " <BarContainer object of 10 artists>)"
      ]
     },
     "execution_count": 22,
     "metadata": {},
     "output_type": "execute_result"
    },
    {
     "data": {
      "image/png": "[encoded data removed]",
      "text/plain": [
       "<Figure size 640x480 with 1 Axes>"
      ]
     },
     "metadata": {},
     "output_type": "display_data"
    }
   ],
   "source": [
    "plt.hist(df1['Cost'])"
   ]
  },
  {
   "cell_type": "markdown",
   "id": "8f1d05e6",
   "metadata": {},
   "source": [
    "Data looks good after the log transformation but not Normally distributed."
   ]
  },
  {
   "cell_type": "markdown",
   "id": "b2a14344",
   "metadata": {},
   "source": [
    "#### Feature Creation for Date Columns"
   ]
  },
  {
   "cell_type": "code",
   "execution_count": 23,
   "id": "91db5dff",
   "metadata": {},
   "outputs": [],
   "source": [
    "# Convert object datatype to datetime\n",
    "df['Scheduled Date'] = pd.to_datetime(df['Scheduled Date'])\n",
    "df['Delivery Date'] = pd.to_datetime(df['Delivery Date'])"
   ]
  },
  {
   "cell_type": "code",
   "execution_count": 24,
   "id": "fedd0f42",
   "metadata": {},
   "outputs": [],
   "source": [
    "df['Month'] = pd.to_datetime(df['Scheduled Date']).dt.month\n",
    "df['Year'] = pd.to_datetime(df['Scheduled Date']).dt.year\n",
    "\n",
    "numeric_features.append('Month')\n",
    "numeric_features.append('Year')"
   ]
  },
  {
   "cell_type": "markdown",
   "id": "df8e31a0",
   "metadata": {},
   "source": [
    "#### Drop Unneccessary column"
   ]
  },
  {
   "cell_type": "markdown",
   "id": "c84d1d87",
   "metadata": {},
   "source": [
    "Drop `Customer Id`, `Artist Name` and `Customer Location` columns having huge number of unique values.\n",
    "\n",
    "`Scheduled Date` and `Delivery Date` can be dropped since the required features are extracted form it"
   ]
  },
  {
   "cell_type": "code",
   "execution_count": 25,
   "id": "cdd157e1",
   "metadata": {},
   "outputs": [],
   "source": [
    "to_drop_columns = ['Customer Id', 'Artist Name', 'Customer Location', 'Scheduled Date', 'Delivery Date']"
   ]
  },
  {
   "cell_type": "code",
   "execution_count": 26,
   "id": "4f650dfe",
   "metadata": {},
   "outputs": [],
   "source": [
    "df.drop(columns=to_drop_columns, inplace=True)"
   ]
  },
  {
   "cell_type": "markdown",
   "id": "929e7901",
   "metadata": {},
   "source": [
    "### Model Building"
   ]
  },
  {
   "cell_type": "code",
   "execution_count": 29,
   "id": "84a208bf",
   "metadata": {},
   "outputs": [
    {
     "name": "stdout",
     "output_type": "stream",
     "text": [
      "Collecting catboost\n",
      "  Downloading catboost-1.2.2-cp310-cp310-macosx_11_0_universal2.whl (25.7 MB)\n",
      "\u001b[2K     \u001b[38;2;114;156;31m━━━━━━━━━━━━━━━━━━━━━━━━━━━━━━━━━━━━━━━\u001b[0m \u001b[32m25.7/25.7 MB\u001b[0m \u001b[31m925.5 kB/s\u001b[0m eta \u001b[36m0:00:00\u001b[0mm eta \u001b[36m0:00:01\u001b[0m[36m0:00:01\u001b[0m\n",
      "\u001b[?25hRequirement already satisfied: numpy>=1.16.0 in /Users/fathimab/anaconda3/lib/python3.10/site-packages (from catboost) (1.23.5)\n",
      "Requirement already satisfied: matplotlib in /Users/fathimab/anaconda3/lib/python3.10/site-packages (from catboost) (3.7.0)\n",
      "Requirement already satisfied: six in /Users/fathimab/anaconda3/lib/python3.10/site-packages (from catboost) (1.16.0)\n",
      "Requirement already satisfied: scipy in /Users/fathimab/anaconda3/lib/python3.10/site-packages (from catboost) (1.10.0)\n",
      "Requirement already satisfied: graphviz in /Users/fathimab/anaconda3/lib/python3.10/site-packages (from catboost) (0.20.1)\n",
      "Requirement already satisfied: plotly in /Users/fathimab/anaconda3/lib/python3.10/site-packages (from catboost) (5.9.0)\n",
      "Requirement already satisfied: pandas>=0.24 in /Users/fathimab/anaconda3/lib/python3.10/site-packages (from catboost) (1.5.3)\n",
      "Requirement already satisfied: python-dateutil>=2.8.1 in /Users/fathimab/anaconda3/lib/python3.10/site-packages (from pandas>=0.24->catboost) (2.8.2)\n",
      "Requirement already satisfied: pytz>=2020.1 in /Users/fathimab/anaconda3/lib/python3.10/site-packages (from pandas>=0.24->catboost) (2022.7)\n",
      "Requirement already satisfied: contourpy>=1.0.1 in /Users/fathimab/anaconda3/lib/python3.10/site-packages (from matplotlib->catboost) (1.0.5)\n",
      "Requirement already satisfied: pyparsing>=2.3.1 in /Users/fathimab/anaconda3/lib/python3.10/site-packages (from matplotlib->catboost) (3.0.9)\n",
      "Requirement already satisfied: packaging>=20.0 in /Users/fathimab/anaconda3/lib/python3.10/site-packages (from matplotlib->catboost) (22.0)\n",
      "Requirement already satisfied: cycler>=0.10 in /Users/fathimab/anaconda3/lib/python3.10/site-packages (from matplotlib->catboost) (0.11.0)\n",
      "Requirement already satisfied: fonttools>=4.22.0 in /Users/fathimab/anaconda3/lib/python3.10/site-packages (from matplotlib->catboost) (4.25.0)\n",
      "Requirement already satisfied: pillow>=6.2.0 in /Users/fathimab/anaconda3/lib/python3.10/site-packages (from matplotlib->catboost) (9.4.0)\n",
      "Requirement already satisfied: kiwisolver>=1.0.1 in /Users/fathimab/anaconda3/lib/python3.10/site-packages (from matplotlib->catboost) (1.4.4)\n",
      "Requirement already satisfied: tenacity>=6.2.0 in /Users/fathimab/anaconda3/lib/python3.10/site-packages (from plotly->catboost) (8.0.1)\n",
      "Installing collected packages: catboost\n",
      "Successfully installed catboost-1.2.2\n",
      "Note: you may need to restart the kernel to use updated packages.\n"
     ]
    }
   ],
   "source": [
    "pip install catboost"
   ]
  },
  {
   "cell_type": "code",
   "execution_count": 31,
   "id": "74d210ae",
   "metadata": {},
   "outputs": [
    {
     "name": "stdout",
     "output_type": "stream",
     "text": [
      "Collecting xgboost\n",
      "  Downloading xgboost-2.0.0-py3-none-macosx_12_0_arm64.whl (1.9 MB)\n",
      "\u001b[2K     \u001b[38;2;114;156;31m━━━━━━━━━━━━━━━━━━━━━━━━━━━━━━━━━━━━━━━━\u001b[0m \u001b[32m1.9/1.9 MB\u001b[0m \u001b[31m1.5 MB/s\u001b[0m eta \u001b[36m0:00:00\u001b[0mm eta \u001b[36m0:00:01\u001b[0m[36m0:00:01\u001b[0m\n",
      "\u001b[?25hRequirement already satisfied: scipy in /Users/fathimab/anaconda3/lib/python3.10/site-packages (from xgboost) (1.10.0)\n",
      "Requirement already satisfied: numpy in /Users/fathimab/anaconda3/lib/python3.10/site-packages (from xgboost) (1.23.5)\n",
      "Installing collected packages: xgboost\n",
      "Successfully installed xgboost-2.0.0\n",
      "Note: you may need to restart the kernel to use updated packages.\n"
     ]
    }
   ],
   "source": [
    "pip install xgboost"
   ]
  },
  {
   "cell_type": "code",
   "execution_count": 32,
   "id": "0fca617f",
   "metadata": {},
   "outputs": [],
   "source": [
    "from sklearn.preprocessing import OneHotEncoder, StandardScaler, PowerTransformer, LabelEncoder, OrdinalEncoder, RobustScaler\n",
    "from sklearn.compose import ColumnTransformer\n",
    "from sklearn.pipeline import Pipeline\n",
    "from sklearn.impute import SimpleImputer\n",
    "from sklearn.metrics import mean_squared_error, r2_score\n",
    "from sklearn.neighbors import KNeighborsRegressor\n",
    "from sklearn.tree import DecisionTreeRegressor\n",
    "from sklearn.ensemble import RandomForestRegressor,AdaBoostRegressor\n",
    "from sklearn.svm import SVR\n",
    "from sklearn.linear_model import LinearRegression, Ridge,Lasso\n",
    "from sklearn.metrics import r2_score, mean_absolute_error, mean_squared_error\n",
    "from sklearn.model_selection import RandomizedSearchCV, train_test_split, GridSearchCV\n",
    "from catboost import CatBoostRegressor\n",
    "from xgboost import XGBRegressor\n",
    "from sklearn.svm import SVR"
   ]
  },
  {
   "cell_type": "markdown",
   "id": "53c90b6d",
   "metadata": {},
   "source": [
    "### Split X and y"
   ]
  },
  {
   "cell_type": "code",
   "execution_count": 33,
   "id": "f3e47086",
   "metadata": {},
   "outputs": [],
   "source": [
    "X = df.drop(columns = ['Cost'], axis=1)\n",
    "y = np.abs(df['Cost'])"
   ]
  },
  {
   "cell_type": "code",
   "execution_count": 34,
   "id": "ce8f1d71",
   "metadata": {},
   "outputs": [],
   "source": [
    "y = np.log1p(y)"
   ]
  },
  {
   "cell_type": "markdown",
   "id": "86f50096",
   "metadata": {},
   "source": [
    "## Train Test Split\n",
    "\n",
    "* The train-test split procedure is used to estimate the performance of machine learning algorithms when they are used to make predictions on data not used to train the model.\n",
    "\n",
    "* It is a fast and easy procedure to perform, the results of which allow you to compare the performance of machine learning algorithms."
   ]
  },
  {
   "cell_type": "code",
   "execution_count": 35,
   "id": "8fb7ddb3",
   "metadata": {},
   "outputs": [],
   "source": [
    "X_train, X_test, y_train, y_test = train_test_split(X, y, test_size=0.2, random_state=42)"
   ]
  },
  {
   "cell_type": "markdown",
   "id": "19857f2b",
   "metadata": {},
   "source": [
    "## Feature Encoding and Scaling"
   ]
  },
  {
   "cell_type": "markdown",
   "id": "d9c31e36",
   "metadata": {},
   "source": [
    "**Selecting Numerical and categorical features for feature scaling**"
   ]
  },
  {
   "cell_type": "code",
   "execution_count": 36,
   "id": "dfe8d433",
   "metadata": {},
   "outputs": [
    {
     "data": {
      "text/plain": [
       "(['Artist Reputation',\n",
       "  'Height',\n",
       "  'Width',\n",
       "  'Base Shipping Price',\n",
       "  'Month',\n",
       "  'Year'],\n",
       " ['Material',\n",
       "  'International',\n",
       "  'Express Shipment',\n",
       "  'Installation Included',\n",
       "  'Transport',\n",
       "  'Fragile',\n",
       "  'Customer Information',\n",
       "  'Remote Location'],\n",
       " ['Price Of Sculpture', 'Weight'])"
      ]
     },
     "execution_count": 36,
     "metadata": {},
     "output_type": "execute_result"
    }
   ],
   "source": [
    "numeric_features = [x for x in numeric_features if x not in outlier_feature]\n",
    "categorical_features = [x for x in non_numeric_features if x not in to_drop_columns]\n",
    "\n",
    "(numeric_features), (categorical_features), (outlier_feature)"
   ]
  },
  {
   "cell_type": "markdown",
   "id": "067a1d5d",
   "metadata": {},
   "source": [
    "* **Mean imputer:** Since we handeled outlier by powertransformer for the continuous features the mean and median of the features are nearly same. When there are no outliers mean performs an a better imputer.\n",
    "* **Standardscaler:** As the features distribution are nearly normal we use standard scaler.\n",
    "* **Power Transformer:** Since avg_glucose_level are skewed we use Power Transformer on them"
   ]
  },
  {
   "cell_type": "code",
   "execution_count": 37,
   "id": "b91c86f4",
   "metadata": {},
   "outputs": [],
   "source": [
    "numeric_features_pipeline = Pipeline(steps=[\n",
    "    ('imputer', SimpleImputer(strategy='mean')),\n",
    "    ('scaler', RobustScaler())\n",
    "])\n",
    "\n",
    "categorical_features_pipeline = Pipeline(steps=[\n",
    "    ('imputer', SimpleImputer(strategy='most_frequent')),\n",
    "    ('one_hot_encoder', OneHotEncoder()),\n",
    "]\n",
    ")\n",
    "\n",
    "outliers_features_pipeline = Pipeline(steps=[\n",
    "    ('imputer', SimpleImputer(strategy='median')),\n",
    "    ('transformer', PowerTransformer(standardize=True))\n",
    "])\n",
    "\n",
    "preprocessor = ColumnTransformer(\n",
    "    [\n",
    "        (\"Numeric Pipeline\",numeric_features_pipeline, numeric_features),\n",
    "        (\"Categorical Features Pipeline\",categorical_features_pipeline, categorical_features),\n",
    "        (\"Outliers Features Pipeline\", outliers_features_pipeline, outlier_feature)\n",
    "]\n",
    ")"
   ]
  },
  {
   "cell_type": "code",
   "execution_count": 38,
   "id": "7ef7bea6",
   "metadata": {},
   "outputs": [],
   "source": [
    "X_train = preprocessor.fit_transform(X_train)\n",
    "X_test = preprocessor.transform(X_test)"
   ]
  },
  {
   "cell_type": "markdown",
   "id": "5a663b2b",
   "metadata": {},
   "source": [
    "## Model Selection\n",
    "* **Here should understand the Various Classification models with default values from these models we can choose top 4 with Highest Accuracy score and proceed with HyperParameter Tuning**"
   ]
  },
  {
   "cell_type": "code",
   "execution_count": 39,
   "id": "945fae70",
   "metadata": {},
   "outputs": [],
   "source": [
    "# functions which takes true and predicted values to calculate metrics\n",
    "def evaluate_reg(true, predicted):\n",
    "    mae = mean_absolute_error(true, predicted)\n",
    "    mse = mean_squared_error(true, predicted)\n",
    "    rmse = np.sqrt(mean_squared_error(true, predicted))\n",
    "    r2_square = r2_score(true, predicted)\n",
    "    return mae, rmse, r2_square"
   ]
  },
  {
   "cell_type": "code",
   "execution_count": 40,
   "id": "e435dbd2",
   "metadata": {},
   "outputs": [],
   "source": [
    "# function which can evaluate models and return a report \n",
    "def evaluate_models(X_train, X_test, y_train, y_test, models):\n",
    "    '''\n",
    "    This function takes in X and y and models dictionary as input\n",
    "    It splits the data into Train Test split\n",
    "    Iterates through the given model dictionary and evaluates the metrics\n",
    "    Returns: Dataframe which contains report of all models metrics with cost\n",
    "    '''    \n",
    "    models_list = []\n",
    "    r2_list = []\n",
    "    \n",
    "    for i in range(len(list(models))):\n",
    "        model = list(models.values())[i]\n",
    "        model.fit(X_train, y_train) # Train model\n",
    "\n",
    "        # Make predictions\n",
    "        y_train_pred = model.predict(X_train)\n",
    "        y_test_pred = model.predict(X_test)\n",
    "\n",
    "        # Evaluate Train and Test dataset\n",
    "        model_train_mae , model_train_rmse, model_train_r2 = evaluate_reg(y_train, y_train_pred)\n",
    "\n",
    "        model_test_mae , model_test_rmse, model_test_r2 = evaluate_reg(y_test, y_test_pred)\n",
    "\n",
    "\n",
    "        print(list(models.keys())[i])\n",
    "        models_list.append(list(models.keys())[i])\n",
    "\n",
    "        print('Model performance for Training set')\n",
    "        print(\"- Root Mean Squared Error: {:.4f}\".format(model_train_rmse))\n",
    "        print(\"- Mean Absolute Error: {:.4f}\".format(model_train_mae))\n",
    "        print(\"- R2 Score: {:.4f}\".format(model_train_r2))\n",
    "\n",
    "        print('----------------------------------')\n",
    "\n",
    "        print('Model performance for Test set')\n",
    "        print(\"- Root Mean Squared Error: {:.4f}\".format(model_test_rmse))\n",
    "        print(\"- Mean Absolute Error: {:.4f}\".format(model_test_mae))\n",
    "        print(\"- R2 Score: {:.4f}\".format(model_test_r2))\n",
    "        r2_list.append(model_test_r2)\n",
    "\n",
    "        print('='*35)\n",
    "        print('\\n')\n",
    "        \n",
    "    report=pd.DataFrame(list(zip(models_list, r2_list)), columns=['Model Name', 'r2_score']).sort_values(by=['r2_score'], ascending=False)\n",
    "        \n",
    "    return report"
   ]
  },
  {
   "cell_type": "code",
   "execution_count": 43,
   "id": "be3ef10c",
   "metadata": {},
   "outputs": [
    {
     "name": "stdout",
     "output_type": "stream",
     "text": [
      "Linear Regression\n",
      "Model performance for Training set\n",
      "- Root Mean Squared Error: 0.7993\n",
      "- Mean Absolute Error: 0.5732\n",
      "- R2 Score: 0.7656\n",
      "----------------------------------\n",
      "Model performance for Test set\n",
      "- Root Mean Squared Error: 0.7600\n",
      "- Mean Absolute Error: 0.5639\n",
      "- R2 Score: 0.7878\n",
      "===================================\n",
      "\n",
      "\n",
      "K-Neighbors Regressor\n",
      "Model performance for Training set\n",
      "- Root Mean Squared Error: 0.5675\n",
      "- Mean Absolute Error: 0.3614\n",
      "- R2 Score: 0.8818\n",
      "----------------------------------\n",
      "Model performance for Test set\n",
      "- Root Mean Squared Error: 0.6588\n",
      "- Mean Absolute Error: 0.4263\n",
      "- R2 Score: 0.8406\n",
      "===================================\n",
      "\n",
      "\n",
      "Decision Tree\n",
      "Model performance for Training set\n",
      "- Root Mean Squared Error: 0.0000\n",
      "- Mean Absolute Error: 0.0000\n",
      "- R2 Score: 1.0000\n",
      "----------------------------------\n",
      "Model performance for Test set\n",
      "- Root Mean Squared Error: 0.5251\n",
      "- Mean Absolute Error: 0.3229\n",
      "- R2 Score: 0.8987\n",
      "===================================\n",
      "\n",
      "\n",
      "Random Forest Regressor\n",
      "Model performance for Training set\n",
      "- Root Mean Squared Error: 0.1237\n",
      "- Mean Absolute Error: 0.0791\n",
      "- R2 Score: 0.9944\n",
      "----------------------------------\n",
      "Model performance for Test set\n",
      "- Root Mean Squared Error: 0.3493\n",
      "- Mean Absolute Error: 0.2049\n",
      "- R2 Score: 0.9552\n",
      "===================================\n",
      "\n",
      "\n",
      "XGBRegressor\n",
      "Model performance for Training set\n",
      "- Root Mean Squared Error: 0.0997\n",
      "- Mean Absolute Error: 0.0658\n",
      "- R2 Score: 0.9964\n",
      "----------------------------------\n",
      "Model performance for Test set\n",
      "- Root Mean Squared Error: 0.3148\n",
      "- Mean Absolute Error: 0.1846\n",
      "- R2 Score: 0.9636\n",
      "===================================\n",
      "\n",
      "\n",
      "CatBoosting Regressor\n",
      "Model performance for Training set\n",
      "- Root Mean Squared Error: 0.1831\n",
      "- Mean Absolute Error: 0.1178\n",
      "- R2 Score: 0.9877\n",
      "----------------------------------\n",
      "Model performance for Test set\n",
      "- Root Mean Squared Error: 0.2771\n",
      "- Mean Absolute Error: 0.1628\n",
      "- R2 Score: 0.9718\n",
      "===================================\n",
      "\n",
      "\n",
      "AdaBoost Regressor\n",
      "Model performance for Training set\n",
      "- Root Mean Squared Error: 0.5967\n",
      "- Mean Absolute Error: 0.4992\n",
      "- R2 Score: 0.8694\n",
      "----------------------------------\n",
      "Model performance for Test set\n",
      "- Root Mean Squared Error: 0.6281\n",
      "- Mean Absolute Error: 0.5122\n",
      "- R2 Score: 0.8551\n",
      "===================================\n",
      "\n",
      "\n",
      "SVR\n",
      "Model performance for Training set\n",
      "- Root Mean Squared Error: 0.4694\n",
      "- Mean Absolute Error: 0.2297\n",
      "- R2 Score: 0.9192\n",
      "----------------------------------\n",
      "Model performance for Test set\n",
      "- Root Mean Squared Error: 0.4866\n",
      "- Mean Absolute Error: 0.2585\n",
      "- R2 Score: 0.9130\n",
      "===================================\n",
      "\n",
      "\n"
     ]
    }
   ],
   "source": [
    "base_report = evaluate_models(X_train, X_test, y_train, y_test, models)"
   ]
  },
  {
   "cell_type": "code",
   "execution_count": 44,
   "id": "689f46bf",
   "metadata": {},
   "outputs": [],
   "source": [
    "# Initialize models required for model\n",
    "models = {\n",
    "    \"Linear Regression\": LinearRegression(),\n",
    "    \"K-Neighbors Regressor\": KNeighborsRegressor(),\n",
    "    \"Decision Tree\": DecisionTreeRegressor(),\n",
    "    \"Random Forest Regressor\": RandomForestRegressor(),\n",
    "    \"XGBRegressor\": XGBRegressor(), \n",
    "    \"CatBoosting Regressor\": CatBoostRegressor(verbose=False, max_depth=5),\n",
    "    \"AdaBoost Regressor\": AdaBoostRegressor(), \n",
    "    \"SVR\": SVR()\n",
    "}"
   ]
  },
  {
   "cell_type": "code",
   "execution_count": 45,
   "id": "9533425a",
   "metadata": {},
   "outputs": [
    {
     "data": {
      "text/html": [
       "<div>\n",
       "<style scoped>\n",
       "    .dataframe tbody tr th:only-of-type {\n",
       "        vertical-align: middle;\n",
       "    }\n",
       "\n",
       "    .dataframe tbody tr th {\n",
       "        vertical-align: top;\n",
       "    }\n",
       "\n",
       "    .dataframe thead th {\n",
       "        text-align: right;\n",
       "    }\n",
       "</style>\n",
       "<table border=\"1\" class=\"dataframe\">\n",
       "  <thead>\n",
       "    <tr style=\"text-align: right;\">\n",
       "      <th></th>\n",
       "      <th>Model Name</th>\n",
       "      <th>r2_score</th>\n",
       "    </tr>\n",
       "  </thead>\n",
       "  <tbody>\n",
       "    <tr>\n",
       "      <th>5</th>\n",
       "      <td>CatBoosting Regressor</td>\n",
       "      <td>0.971792</td>\n",
       "    </tr>\n",
       "    <tr>\n",
       "      <th>4</th>\n",
       "      <td>XGBRegressor</td>\n",
       "      <td>0.963607</td>\n",
       "    </tr>\n",
       "    <tr>\n",
       "      <th>3</th>\n",
       "      <td>Random Forest Regressor</td>\n",
       "      <td>0.955185</td>\n",
       "    </tr>\n",
       "    <tr>\n",
       "      <th>7</th>\n",
       "      <td>SVR</td>\n",
       "      <td>0.913033</td>\n",
       "    </tr>\n",
       "    <tr>\n",
       "      <th>2</th>\n",
       "      <td>Decision Tree</td>\n",
       "      <td>0.898709</td>\n",
       "    </tr>\n",
       "    <tr>\n",
       "      <th>6</th>\n",
       "      <td>AdaBoost Regressor</td>\n",
       "      <td>0.855089</td>\n",
       "    </tr>\n",
       "    <tr>\n",
       "      <th>1</th>\n",
       "      <td>K-Neighbors Regressor</td>\n",
       "      <td>0.840555</td>\n",
       "    </tr>\n",
       "    <tr>\n",
       "      <th>0</th>\n",
       "      <td>Linear Regression</td>\n",
       "      <td>0.787842</td>\n",
       "    </tr>\n",
       "  </tbody>\n",
       "</table>\n",
       "</div>"
      ],
      "text/plain": [
       "                Model Name  r2_score\n",
       "5    CatBoosting Regressor  0.971792\n",
       "4             XGBRegressor  0.963607\n",
       "3  Random Forest Regressor  0.955185\n",
       "7                      SVR  0.913033\n",
       "2            Decision Tree  0.898709\n",
       "6       AdaBoost Regressor  0.855089\n",
       "1    K-Neighbors Regressor  0.840555\n",
       "0        Linear Regression  0.787842"
      ]
     },
     "execution_count": 45,
     "metadata": {},
     "output_type": "execute_result"
    }
   ],
   "source": [
    "base_report"
   ]
  },
  {
   "cell_type": "markdown",
   "id": "383f6510",
   "metadata": {},
   "source": [
    "#### Hyperparameter Tuning"
   ]
  },
  {
   "cell_type": "code",
   "execution_count": 46,
   "id": "56411c1c",
   "metadata": {},
   "outputs": [],
   "source": [
    "#Initialize few parameter for Hyperparamter tuning\n",
    "rf_params = {\"max_depth\": [5, 8, 15, None, 10],\n",
    "             \"max_features\": [5, 7, \"auto\", 8],\n",
    "             \"min_samples_split\": [2, 8, 15, 20],\n",
    "             \"n_estimators\": [100, 200, 500, 1000]}\n",
    "\n",
    "xgboost_params = {\"learning_rate\": [0.1, 0.01],\n",
    "                  \"max_depth\": [5, 8, 12, 20, 30],\n",
    "                  \"n_estimators\": [100, 200, 300],\n",
    "                  \"colsample_bytree\": [0.5, 0.8, 1, 0.3, 0.4]}\n",
    "\n",
    "cat_params = {\"learning_rate\": [0.1, 0.01, 0.6, 0.5],\n",
    "              \"max_depth\": [4, 5, 6, 8, 12]}"
   ]
  },
  {
   "cell_type": "code",
   "execution_count": 47,
   "id": "40615606",
   "metadata": {},
   "outputs": [],
   "source": [
    "# Models list for Hyperparameter tuning\n",
    "randomcv_models = [(\"RF\", RandomForestRegressor(), rf_params),\n",
    "                   ('XGBoost', XGBRegressor(), xgboost_params),\n",
    "                   ('CatBoost', CatBoostRegressor(verbose=False), cat_params)\n",
    "                   ]"
   ]
  },
  {
   "cell_type": "code",
   "execution_count": 48,
   "id": "f064ad4d",
   "metadata": {},
   "outputs": [
    {
     "name": "stdout",
     "output_type": "stream",
     "text": [
      "Fitting 3 folds for each of 100 candidates, totalling 300 fits\n"
     ]
    },
    {
     "name": "stderr",
     "output_type": "stream",
     "text": [
      "/Users/fathimab/anaconda3/lib/python3.10/site-packages/sklearn/ensemble/_forest.py:413: FutureWarning: `max_features='auto'` has been deprecated in 1.1 and will be removed in 1.3. To keep the past behaviour, explicitly set `max_features=1.0` or remove this parameter as it is also the default value for RandomForestRegressors and ExtraTreesRegressors.\n",
      "  warn(\n",
      "/Users/fathimab/anaconda3/lib/python3.10/site-packages/sklearn/ensemble/_forest.py:413: FutureWarning: `max_features='auto'` has been deprecated in 1.1 and will be removed in 1.3. To keep the past behaviour, explicitly set `max_features=1.0` or remove this parameter as it is also the default value for RandomForestRegressors and ExtraTreesRegressors.\n",
      "  warn(\n",
      "/Users/fathimab/anaconda3/lib/python3.10/site-packages/sklearn/ensemble/_forest.py:413: FutureWarning: `max_features='auto'` has been deprecated in 1.1 and will be removed in 1.3. To keep the past behaviour, explicitly set `max_features=1.0` or remove this parameter as it is also the default value for RandomForestRegressors and ExtraTreesRegressors.\n",
      "  warn(\n",
      "/Users/fathimab/anaconda3/lib/python3.10/site-packages/sklearn/ensemble/_forest.py:413: FutureWarning: `max_features='auto'` has been deprecated in 1.1 and will be removed in 1.3. To keep the past behaviour, explicitly set `max_features=1.0` or remove this parameter as it is also the default value for RandomForestRegressors and ExtraTreesRegressors.\n",
      "  warn(\n",
      "/Users/fathimab/anaconda3/lib/python3.10/site-packages/sklearn/ensemble/_forest.py:413: FutureWarning: `max_features='auto'` has been deprecated in 1.1 and will be removed in 1.3. To keep the past behaviour, explicitly set `max_features=1.0` or remove this parameter as it is also the default value for RandomForestRegressors and ExtraTreesRegressors.\n",
      "  warn(\n",
      "/Users/fathimab/anaconda3/lib/python3.10/site-packages/sklearn/ensemble/_forest.py:413: FutureWarning: `max_features='auto'` has been deprecated in 1.1 and will be removed in 1.3. To keep the past behaviour, explicitly set `max_features=1.0` or remove this parameter as it is also the default value for RandomForestRegressors and ExtraTreesRegressors.\n",
      "  warn(\n",
      "/Users/fathimab/anaconda3/lib/python3.10/site-packages/sklearn/ensemble/_forest.py:413: FutureWarning: `max_features='auto'` has been deprecated in 1.1 and will be removed in 1.3. To keep the past behaviour, explicitly set `max_features=1.0` or remove this parameter as it is also the default value for RandomForestRegressors and ExtraTreesRegressors.\n",
      "  warn(\n",
      "/Users/fathimab/anaconda3/lib/python3.10/site-packages/sklearn/ensemble/_forest.py:413: FutureWarning: `max_features='auto'` has been deprecated in 1.1 and will be removed in 1.3. To keep the past behaviour, explicitly set `max_features=1.0` or remove this parameter as it is also the default value for RandomForestRegressors and ExtraTreesRegressors.\n",
      "  warn(\n",
      "/Users/fathimab/anaconda3/lib/python3.10/site-packages/sklearn/ensemble/_forest.py:413: FutureWarning: `max_features='auto'` has been deprecated in 1.1 and will be removed in 1.3. To keep the past behaviour, explicitly set `max_features=1.0` or remove this parameter as it is also the default value for RandomForestRegressors and ExtraTreesRegressors.\n",
      "  warn(\n",
      "/Users/fathimab/anaconda3/lib/python3.10/site-packages/sklearn/ensemble/_forest.py:413: FutureWarning: `max_features='auto'` has been deprecated in 1.1 and will be removed in 1.3. To keep the past behaviour, explicitly set `max_features=1.0` or remove this parameter as it is also the default value for RandomForestRegressors and ExtraTreesRegressors.\n",
      "  warn(\n",
      "/Users/fathimab/anaconda3/lib/python3.10/site-packages/sklearn/ensemble/_forest.py:413: FutureWarning: `max_features='auto'` has been deprecated in 1.1 and will be removed in 1.3. To keep the past behaviour, explicitly set `max_features=1.0` or remove this parameter as it is also the default value for RandomForestRegressors and ExtraTreesRegressors.\n",
      "  warn(\n",
      "/Users/fathimab/anaconda3/lib/python3.10/site-packages/sklearn/ensemble/_forest.py:413: FutureWarning: `max_features='auto'` has been deprecated in 1.1 and will be removed in 1.3. To keep the past behaviour, explicitly set `max_features=1.0` or remove this parameter as it is also the default value for RandomForestRegressors and ExtraTreesRegressors.\n",
      "  warn(\n",
      "/Users/fathimab/anaconda3/lib/python3.10/site-packages/sklearn/ensemble/_forest.py:413: FutureWarning: `max_features='auto'` has been deprecated in 1.1 and will be removed in 1.3. To keep the past behaviour, explicitly set `max_features=1.0` or remove this parameter as it is also the default value for RandomForestRegressors and ExtraTreesRegressors.\n",
      "  warn(\n",
      "/Users/fathimab/anaconda3/lib/python3.10/site-packages/sklearn/ensemble/_forest.py:413: FutureWarning: `max_features='auto'` has been deprecated in 1.1 and will be removed in 1.3. To keep the past behaviour, explicitly set `max_features=1.0` or remove this parameter as it is also the default value for RandomForestRegressors and ExtraTreesRegressors.\n",
      "  warn(\n",
      "/Users/fathimab/anaconda3/lib/python3.10/site-packages/sklearn/ensemble/_forest.py:413: FutureWarning: `max_features='auto'` has been deprecated in 1.1 and will be removed in 1.3. To keep the past behaviour, explicitly set `max_features=1.0` or remove this parameter as it is also the default value for RandomForestRegressors and ExtraTreesRegressors.\n",
      "  warn(\n",
      "/Users/fathimab/anaconda3/lib/python3.10/site-packages/sklearn/ensemble/_forest.py:413: FutureWarning: `max_features='auto'` has been deprecated in 1.1 and will be removed in 1.3. To keep the past behaviour, explicitly set `max_features=1.0` or remove this parameter as it is also the default value for RandomForestRegressors and ExtraTreesRegressors.\n",
      "  warn(\n",
      "/Users/fathimab/anaconda3/lib/python3.10/site-packages/sklearn/ensemble/_forest.py:413: FutureWarning: `max_features='auto'` has been deprecated in 1.1 and will be removed in 1.3. To keep the past behaviour, explicitly set `max_features=1.0` or remove this parameter as it is also the default value for RandomForestRegressors and ExtraTreesRegressors.\n",
      "  warn(\n",
      "/Users/fathimab/anaconda3/lib/python3.10/site-packages/sklearn/ensemble/_forest.py:413: FutureWarning: `max_features='auto'` has been deprecated in 1.1 and will be removed in 1.3. To keep the past behaviour, explicitly set `max_features=1.0` or remove this parameter as it is also the default value for RandomForestRegressors and ExtraTreesRegressors.\n",
      "  warn(\n",
      "/Users/fathimab/anaconda3/lib/python3.10/site-packages/sklearn/ensemble/_forest.py:413: FutureWarning: `max_features='auto'` has been deprecated in 1.1 and will be removed in 1.3. To keep the past behaviour, explicitly set `max_features=1.0` or remove this parameter as it is also the default value for RandomForestRegressors and ExtraTreesRegressors.\n",
      "  warn(\n",
      "/Users/fathimab/anaconda3/lib/python3.10/site-packages/sklearn/ensemble/_forest.py:413: FutureWarning: `max_features='auto'` has been deprecated in 1.1 and will be removed in 1.3. To keep the past behaviour, explicitly set `max_features=1.0` or remove this parameter as it is also the default value for RandomForestRegressors and ExtraTreesRegressors.\n",
      "  warn(\n",
      "/Users/fathimab/anaconda3/lib/python3.10/site-packages/sklearn/ensemble/_forest.py:413: FutureWarning: `max_features='auto'` has been deprecated in 1.1 and will be removed in 1.3. To keep the past behaviour, explicitly set `max_features=1.0` or remove this parameter as it is also the default value for RandomForestRegressors and ExtraTreesRegressors.\n",
      "  warn(\n",
      "/Users/fathimab/anaconda3/lib/python3.10/site-packages/sklearn/ensemble/_forest.py:413: FutureWarning: `max_features='auto'` has been deprecated in 1.1 and will be removed in 1.3. To keep the past behaviour, explicitly set `max_features=1.0` or remove this parameter as it is also the default value for RandomForestRegressors and ExtraTreesRegressors.\n",
      "  warn(\n",
      "/Users/fathimab/anaconda3/lib/python3.10/site-packages/sklearn/ensemble/_forest.py:413: FutureWarning: `max_features='auto'` has been deprecated in 1.1 and will be removed in 1.3. To keep the past behaviour, explicitly set `max_features=1.0` or remove this parameter as it is also the default value for RandomForestRegressors and ExtraTreesRegressors.\n",
      "  warn(\n"
     ]
    },
    {
     "name": "stderr",
     "output_type": "stream",
     "text": [
      "/Users/fathimab/anaconda3/lib/python3.10/site-packages/sklearn/ensemble/_forest.py:413: FutureWarning: `max_features='auto'` has been deprecated in 1.1 and will be removed in 1.3. To keep the past behaviour, explicitly set `max_features=1.0` or remove this parameter as it is also the default value for RandomForestRegressors and ExtraTreesRegressors.\n",
      "  warn(\n",
      "/Users/fathimab/anaconda3/lib/python3.10/site-packages/sklearn/ensemble/_forest.py:413: FutureWarning: `max_features='auto'` has been deprecated in 1.1 and will be removed in 1.3. To keep the past behaviour, explicitly set `max_features=1.0` or remove this parameter as it is also the default value for RandomForestRegressors and ExtraTreesRegressors.\n",
      "  warn(\n",
      "/Users/fathimab/anaconda3/lib/python3.10/site-packages/sklearn/ensemble/_forest.py:413: FutureWarning: `max_features='auto'` has been deprecated in 1.1 and will be removed in 1.3. To keep the past behaviour, explicitly set `max_features=1.0` or remove this parameter as it is also the default value for RandomForestRegressors and ExtraTreesRegressors.\n",
      "  warn(\n",
      "/Users/fathimab/anaconda3/lib/python3.10/site-packages/sklearn/ensemble/_forest.py:413: FutureWarning: `max_features='auto'` has been deprecated in 1.1 and will be removed in 1.3. To keep the past behaviour, explicitly set `max_features=1.0` or remove this parameter as it is also the default value for RandomForestRegressors and ExtraTreesRegressors.\n",
      "  warn(\n",
      "/Users/fathimab/anaconda3/lib/python3.10/site-packages/sklearn/ensemble/_forest.py:413: FutureWarning: `max_features='auto'` has been deprecated in 1.1 and will be removed in 1.3. To keep the past behaviour, explicitly set `max_features=1.0` or remove this parameter as it is also the default value for RandomForestRegressors and ExtraTreesRegressors.\n",
      "  warn(\n",
      "/Users/fathimab/anaconda3/lib/python3.10/site-packages/sklearn/ensemble/_forest.py:413: FutureWarning: `max_features='auto'` has been deprecated in 1.1 and will be removed in 1.3. To keep the past behaviour, explicitly set `max_features=1.0` or remove this parameter as it is also the default value for RandomForestRegressors and ExtraTreesRegressors.\n",
      "  warn(\n",
      "/Users/fathimab/anaconda3/lib/python3.10/site-packages/sklearn/ensemble/_forest.py:413: FutureWarning: `max_features='auto'` has been deprecated in 1.1 and will be removed in 1.3. To keep the past behaviour, explicitly set `max_features=1.0` or remove this parameter as it is also the default value for RandomForestRegressors and ExtraTreesRegressors.\n",
      "  warn(\n",
      "/Users/fathimab/anaconda3/lib/python3.10/site-packages/sklearn/ensemble/_forest.py:413: FutureWarning: `max_features='auto'` has been deprecated in 1.1 and will be removed in 1.3. To keep the past behaviour, explicitly set `max_features=1.0` or remove this parameter as it is also the default value for RandomForestRegressors and ExtraTreesRegressors.\n",
      "  warn(\n",
      "/Users/fathimab/anaconda3/lib/python3.10/site-packages/sklearn/ensemble/_forest.py:413: FutureWarning: `max_features='auto'` has been deprecated in 1.1 and will be removed in 1.3. To keep the past behaviour, explicitly set `max_features=1.0` or remove this parameter as it is also the default value for RandomForestRegressors and ExtraTreesRegressors.\n",
      "  warn(\n",
      "/Users/fathimab/anaconda3/lib/python3.10/site-packages/sklearn/ensemble/_forest.py:413: FutureWarning: `max_features='auto'` has been deprecated in 1.1 and will be removed in 1.3. To keep the past behaviour, explicitly set `max_features=1.0` or remove this parameter as it is also the default value for RandomForestRegressors and ExtraTreesRegressors.\n",
      "  warn(\n",
      "/Users/fathimab/anaconda3/lib/python3.10/site-packages/sklearn/ensemble/_forest.py:413: FutureWarning: `max_features='auto'` has been deprecated in 1.1 and will be removed in 1.3. To keep the past behaviour, explicitly set `max_features=1.0` or remove this parameter as it is also the default value for RandomForestRegressors and ExtraTreesRegressors.\n",
      "  warn(\n",
      "/Users/fathimab/anaconda3/lib/python3.10/site-packages/sklearn/ensemble/_forest.py:413: FutureWarning: `max_features='auto'` has been deprecated in 1.1 and will be removed in 1.3. To keep the past behaviour, explicitly set `max_features=1.0` or remove this parameter as it is also the default value for RandomForestRegressors and ExtraTreesRegressors.\n",
      "  warn(\n",
      "/Users/fathimab/anaconda3/lib/python3.10/site-packages/sklearn/ensemble/_forest.py:413: FutureWarning: `max_features='auto'` has been deprecated in 1.1 and will be removed in 1.3. To keep the past behaviour, explicitly set `max_features=1.0` or remove this parameter as it is also the default value for RandomForestRegressors and ExtraTreesRegressors.\n",
      "  warn(\n",
      "/Users/fathimab/anaconda3/lib/python3.10/site-packages/sklearn/ensemble/_forest.py:413: FutureWarning: `max_features='auto'` has been deprecated in 1.1 and will be removed in 1.3. To keep the past behaviour, explicitly set `max_features=1.0` or remove this parameter as it is also the default value for RandomForestRegressors and ExtraTreesRegressors.\n",
      "  warn(\n",
      "/Users/fathimab/anaconda3/lib/python3.10/site-packages/sklearn/ensemble/_forest.py:413: FutureWarning: `max_features='auto'` has been deprecated in 1.1 and will be removed in 1.3. To keep the past behaviour, explicitly set `max_features=1.0` or remove this parameter as it is also the default value for RandomForestRegressors and ExtraTreesRegressors.\n",
      "  warn(\n",
      "/Users/fathimab/anaconda3/lib/python3.10/site-packages/sklearn/ensemble/_forest.py:413: FutureWarning: `max_features='auto'` has been deprecated in 1.1 and will be removed in 1.3. To keep the past behaviour, explicitly set `max_features=1.0` or remove this parameter as it is also the default value for RandomForestRegressors and ExtraTreesRegressors.\n",
      "  warn(\n",
      "/Users/fathimab/anaconda3/lib/python3.10/site-packages/sklearn/ensemble/_forest.py:413: FutureWarning: `max_features='auto'` has been deprecated in 1.1 and will be removed in 1.3. To keep the past behaviour, explicitly set `max_features=1.0` or remove this parameter as it is also the default value for RandomForestRegressors and ExtraTreesRegressors.\n",
      "  warn(\n",
      "/Users/fathimab/anaconda3/lib/python3.10/site-packages/sklearn/ensemble/_forest.py:413: FutureWarning: `max_features='auto'` has been deprecated in 1.1 and will be removed in 1.3. To keep the past behaviour, explicitly set `max_features=1.0` or remove this parameter as it is also the default value for RandomForestRegressors and ExtraTreesRegressors.\n",
      "  warn(\n",
      "/Users/fathimab/anaconda3/lib/python3.10/site-packages/sklearn/ensemble/_forest.py:413: FutureWarning: `max_features='auto'` has been deprecated in 1.1 and will be removed in 1.3. To keep the past behaviour, explicitly set `max_features=1.0` or remove this parameter as it is also the default value for RandomForestRegressors and ExtraTreesRegressors.\n",
      "  warn(\n",
      "/Users/fathimab/anaconda3/lib/python3.10/site-packages/sklearn/ensemble/_forest.py:413: FutureWarning: `max_features='auto'` has been deprecated in 1.1 and will be removed in 1.3. To keep the past behaviour, explicitly set `max_features=1.0` or remove this parameter as it is also the default value for RandomForestRegressors and ExtraTreesRegressors.\n",
      "  warn(\n",
      "/Users/fathimab/anaconda3/lib/python3.10/site-packages/sklearn/ensemble/_forest.py:413: FutureWarning: `max_features='auto'` has been deprecated in 1.1 and will be removed in 1.3. To keep the past behaviour, explicitly set `max_features=1.0` or remove this parameter as it is also the default value for RandomForestRegressors and ExtraTreesRegressors.\n",
      "  warn(\n",
      "/Users/fathimab/anaconda3/lib/python3.10/site-packages/sklearn/ensemble/_forest.py:413: FutureWarning: `max_features='auto'` has been deprecated in 1.1 and will be removed in 1.3. To keep the past behaviour, explicitly set `max_features=1.0` or remove this parameter as it is also the default value for RandomForestRegressors and ExtraTreesRegressors.\n",
      "  warn(\n",
      "/Users/fathimab/anaconda3/lib/python3.10/site-packages/sklearn/ensemble/_forest.py:413: FutureWarning: `max_features='auto'` has been deprecated in 1.1 and will be removed in 1.3. To keep the past behaviour, explicitly set `max_features=1.0` or remove this parameter as it is also the default value for RandomForestRegressors and ExtraTreesRegressors.\n",
      "  warn(\n"
     ]
    },
    {
     "name": "stderr",
     "output_type": "stream",
     "text": [
      "/Users/fathimab/anaconda3/lib/python3.10/site-packages/sklearn/ensemble/_forest.py:413: FutureWarning: `max_features='auto'` has been deprecated in 1.1 and will be removed in 1.3. To keep the past behaviour, explicitly set `max_features=1.0` or remove this parameter as it is also the default value for RandomForestRegressors and ExtraTreesRegressors.\n",
      "  warn(\n",
      "/Users/fathimab/anaconda3/lib/python3.10/site-packages/sklearn/ensemble/_forest.py:413: FutureWarning: `max_features='auto'` has been deprecated in 1.1 and will be removed in 1.3. To keep the past behaviour, explicitly set `max_features=1.0` or remove this parameter as it is also the default value for RandomForestRegressors and ExtraTreesRegressors.\n",
      "  warn(\n",
      "/Users/fathimab/anaconda3/lib/python3.10/site-packages/sklearn/ensemble/_forest.py:413: FutureWarning: `max_features='auto'` has been deprecated in 1.1 and will be removed in 1.3. To keep the past behaviour, explicitly set `max_features=1.0` or remove this parameter as it is also the default value for RandomForestRegressors and ExtraTreesRegressors.\n",
      "  warn(\n",
      "/Users/fathimab/anaconda3/lib/python3.10/site-packages/sklearn/ensemble/_forest.py:413: FutureWarning: `max_features='auto'` has been deprecated in 1.1 and will be removed in 1.3. To keep the past behaviour, explicitly set `max_features=1.0` or remove this parameter as it is also the default value for RandomForestRegressors and ExtraTreesRegressors.\n",
      "  warn(\n",
      "/Users/fathimab/anaconda3/lib/python3.10/site-packages/sklearn/ensemble/_forest.py:413: FutureWarning: `max_features='auto'` has been deprecated in 1.1 and will be removed in 1.3. To keep the past behaviour, explicitly set `max_features=1.0` or remove this parameter as it is also the default value for RandomForestRegressors and ExtraTreesRegressors.\n",
      "  warn(\n",
      "/Users/fathimab/anaconda3/lib/python3.10/site-packages/sklearn/ensemble/_forest.py:413: FutureWarning: `max_features='auto'` has been deprecated in 1.1 and will be removed in 1.3. To keep the past behaviour, explicitly set `max_features=1.0` or remove this parameter as it is also the default value for RandomForestRegressors and ExtraTreesRegressors.\n",
      "  warn(\n",
      "/Users/fathimab/anaconda3/lib/python3.10/site-packages/sklearn/ensemble/_forest.py:413: FutureWarning: `max_features='auto'` has been deprecated in 1.1 and will be removed in 1.3. To keep the past behaviour, explicitly set `max_features=1.0` or remove this parameter as it is also the default value for RandomForestRegressors and ExtraTreesRegressors.\n",
      "  warn(\n",
      "/Users/fathimab/anaconda3/lib/python3.10/site-packages/sklearn/ensemble/_forest.py:413: FutureWarning: `max_features='auto'` has been deprecated in 1.1 and will be removed in 1.3. To keep the past behaviour, explicitly set `max_features=1.0` or remove this parameter as it is also the default value for RandomForestRegressors and ExtraTreesRegressors.\n",
      "  warn(\n",
      "/Users/fathimab/anaconda3/lib/python3.10/site-packages/sklearn/ensemble/_forest.py:413: FutureWarning: `max_features='auto'` has been deprecated in 1.1 and will be removed in 1.3. To keep the past behaviour, explicitly set `max_features=1.0` or remove this parameter as it is also the default value for RandomForestRegressors and ExtraTreesRegressors.\n",
      "  warn(\n",
      "/Users/fathimab/anaconda3/lib/python3.10/site-packages/sklearn/ensemble/_forest.py:413: FutureWarning: `max_features='auto'` has been deprecated in 1.1 and will be removed in 1.3. To keep the past behaviour, explicitly set `max_features=1.0` or remove this parameter as it is also the default value for RandomForestRegressors and ExtraTreesRegressors.\n",
      "  warn(\n",
      "/Users/fathimab/anaconda3/lib/python3.10/site-packages/sklearn/ensemble/_forest.py:413: FutureWarning: `max_features='auto'` has been deprecated in 1.1 and will be removed in 1.3. To keep the past behaviour, explicitly set `max_features=1.0` or remove this parameter as it is also the default value for RandomForestRegressors and ExtraTreesRegressors.\n",
      "  warn(\n",
      "/Users/fathimab/anaconda3/lib/python3.10/site-packages/sklearn/ensemble/_forest.py:413: FutureWarning: `max_features='auto'` has been deprecated in 1.1 and will be removed in 1.3. To keep the past behaviour, explicitly set `max_features=1.0` or remove this parameter as it is also the default value for RandomForestRegressors and ExtraTreesRegressors.\n",
      "  warn(\n",
      "/Users/fathimab/anaconda3/lib/python3.10/site-packages/sklearn/ensemble/_forest.py:413: FutureWarning: `max_features='auto'` has been deprecated in 1.1 and will be removed in 1.3. To keep the past behaviour, explicitly set `max_features=1.0` or remove this parameter as it is also the default value for RandomForestRegressors and ExtraTreesRegressors.\n",
      "  warn(\n",
      "/Users/fathimab/anaconda3/lib/python3.10/site-packages/sklearn/ensemble/_forest.py:413: FutureWarning: `max_features='auto'` has been deprecated in 1.1 and will be removed in 1.3. To keep the past behaviour, explicitly set `max_features=1.0` or remove this parameter as it is also the default value for RandomForestRegressors and ExtraTreesRegressors.\n",
      "  warn(\n",
      "/Users/fathimab/anaconda3/lib/python3.10/site-packages/sklearn/ensemble/_forest.py:413: FutureWarning: `max_features='auto'` has been deprecated in 1.1 and will be removed in 1.3. To keep the past behaviour, explicitly set `max_features=1.0` or remove this parameter as it is also the default value for RandomForestRegressors and ExtraTreesRegressors.\n",
      "  warn(\n",
      "/Users/fathimab/anaconda3/lib/python3.10/site-packages/sklearn/ensemble/_forest.py:413: FutureWarning: `max_features='auto'` has been deprecated in 1.1 and will be removed in 1.3. To keep the past behaviour, explicitly set `max_features=1.0` or remove this parameter as it is also the default value for RandomForestRegressors and ExtraTreesRegressors.\n",
      "  warn(\n",
      "/Users/fathimab/anaconda3/lib/python3.10/site-packages/sklearn/ensemble/_forest.py:413: FutureWarning: `max_features='auto'` has been deprecated in 1.1 and will be removed in 1.3. To keep the past behaviour, explicitly set `max_features=1.0` or remove this parameter as it is also the default value for RandomForestRegressors and ExtraTreesRegressors.\n",
      "  warn(\n",
      "/Users/fathimab/anaconda3/lib/python3.10/site-packages/sklearn/ensemble/_forest.py:413: FutureWarning: `max_features='auto'` has been deprecated in 1.1 and will be removed in 1.3. To keep the past behaviour, explicitly set `max_features=1.0` or remove this parameter as it is also the default value for RandomForestRegressors and ExtraTreesRegressors.\n",
      "  warn(\n",
      "/Users/fathimab/anaconda3/lib/python3.10/site-packages/sklearn/ensemble/_forest.py:413: FutureWarning: `max_features='auto'` has been deprecated in 1.1 and will be removed in 1.3. To keep the past behaviour, explicitly set `max_features=1.0` or remove this parameter as it is also the default value for RandomForestRegressors and ExtraTreesRegressors.\n",
      "  warn(\n",
      "/Users/fathimab/anaconda3/lib/python3.10/site-packages/sklearn/ensemble/_forest.py:413: FutureWarning: `max_features='auto'` has been deprecated in 1.1 and will be removed in 1.3. To keep the past behaviour, explicitly set `max_features=1.0` or remove this parameter as it is also the default value for RandomForestRegressors and ExtraTreesRegressors.\n",
      "  warn(\n",
      "/Users/fathimab/anaconda3/lib/python3.10/site-packages/sklearn/ensemble/_forest.py:413: FutureWarning: `max_features='auto'` has been deprecated in 1.1 and will be removed in 1.3. To keep the past behaviour, explicitly set `max_features=1.0` or remove this parameter as it is also the default value for RandomForestRegressors and ExtraTreesRegressors.\n",
      "  warn(\n",
      "/Users/fathimab/anaconda3/lib/python3.10/site-packages/sklearn/ensemble/_forest.py:413: FutureWarning: `max_features='auto'` has been deprecated in 1.1 and will be removed in 1.3. To keep the past behaviour, explicitly set `max_features=1.0` or remove this parameter as it is also the default value for RandomForestRegressors and ExtraTreesRegressors.\n",
      "  warn(\n",
      "/Users/fathimab/anaconda3/lib/python3.10/site-packages/sklearn/ensemble/_forest.py:413: FutureWarning: `max_features='auto'` has been deprecated in 1.1 and will be removed in 1.3. To keep the past behaviour, explicitly set `max_features=1.0` or remove this parameter as it is also the default value for RandomForestRegressors and ExtraTreesRegressors.\n",
      "  warn(\n"
     ]
    },
    {
     "name": "stderr",
     "output_type": "stream",
     "text": [
      "/Users/fathimab/anaconda3/lib/python3.10/site-packages/sklearn/ensemble/_forest.py:413: FutureWarning: `max_features='auto'` has been deprecated in 1.1 and will be removed in 1.3. To keep the past behaviour, explicitly set `max_features=1.0` or remove this parameter as it is also the default value for RandomForestRegressors and ExtraTreesRegressors.\n",
      "  warn(\n",
      "/Users/fathimab/anaconda3/lib/python3.10/site-packages/sklearn/ensemble/_forest.py:413: FutureWarning: `max_features='auto'` has been deprecated in 1.1 and will be removed in 1.3. To keep the past behaviour, explicitly set `max_features=1.0` or remove this parameter as it is also the default value for RandomForestRegressors and ExtraTreesRegressors.\n",
      "  warn(\n",
      "/Users/fathimab/anaconda3/lib/python3.10/site-packages/sklearn/ensemble/_forest.py:413: FutureWarning: `max_features='auto'` has been deprecated in 1.1 and will be removed in 1.3. To keep the past behaviour, explicitly set `max_features=1.0` or remove this parameter as it is also the default value for RandomForestRegressors and ExtraTreesRegressors.\n",
      "  warn(\n"
     ]
    },
    {
     "name": "stdout",
     "output_type": "stream",
     "text": [
      "Fitting 3 folds for each of 100 candidates, totalling 300 fits\n",
      "Fitting 3 folds for each of 20 candidates, totalling 60 fits\n",
      "[CV] END max_depth=None, max_features=7, min_samples_split=8, n_estimators=100; total time=   1.1s\n",
      "[CV] END max_depth=None, max_features=8, min_samples_split=20, n_estimators=1000; total time=   9.2s\n",
      "[CV] END max_depth=10, max_features=7, min_samples_split=8, n_estimators=1000; total time=   8.0s\n",
      "[CV] END max_depth=15, max_features=7, min_samples_split=2, n_estimators=200; total time=   2.4s\n",
      "[CV] END max_depth=15, max_features=8, min_samples_split=8, n_estimators=200; total time=   1.9s\n",
      "[CV] END max_depth=15, max_features=8, min_samples_split=8, n_estimators=200; total time=   2.2s\n",
      "[CV] END max_depth=10, max_features=auto, min_samples_split=8, n_estimators=200; total time=   5.0s\n",
      "[CV] END max_depth=5, max_features=8, min_samples_split=15, n_estimators=500; total time=   2.6s\n",
      "[CV] END max_depth=8, max_features=7, min_samples_split=8, n_estimators=500; total time=   3.4s\n",
      "[CV] END max_depth=5, max_features=5, min_samples_split=20, n_estimators=200; total time=   0.7s\n",
      "[CV] END max_depth=5, max_features=auto, min_samples_split=8, n_estimators=200; total time=   2.6s\n",
      "[CV] END max_depth=5, max_features=auto, min_samples_split=8, n_estimators=200; total time=   3.4s\n",
      "[CV] END max_depth=15, max_features=auto, min_samples_split=20, n_estimators=100; total time=   2.8s\n",
      "[CV] END max_depth=15, max_features=5, min_samples_split=2, n_estimators=500; total time=   5.4s\n",
      "[CV] END max_depth=15, max_features=8, min_samples_split=2, n_estimators=500; total time=   6.4s\n",
      "[CV] END max_depth=15, max_features=8, min_samples_split=2, n_estimators=1000; total time=  12.6s\n",
      "[CV] END max_depth=5, max_features=auto, min_samples_split=2, n_estimators=1000; total time=  13.2s\n",
      "[CV] END max_depth=None, max_features=7, min_samples_split=2, n_estimators=500; total time=   5.7s\n",
      "[CV] END max_depth=None, max_features=8, min_samples_split=8, n_estimators=500; total time=   4.8s\n",
      "[CV] END max_depth=5, max_features=5, min_samples_split=15, n_estimators=100; total time=   0.4s\n",
      "[CV] END max_depth=5, max_features=5, min_samples_split=15, n_estimators=100; total time=   0.4s\n",
      "[CV] END max_depth=5, max_features=5, min_samples_split=15, n_estimators=1000; total time=   3.8s\n",
      "[CV] END max_depth=8, max_features=auto, min_samples_split=2, n_estimators=200; total time=   4.1s\n",
      "[CV] END max_depth=15, max_features=auto, min_samples_split=2, n_estimators=100; total time=   3.4s\n",
      "[CV] END max_depth=10, max_features=8, min_samples_split=15, n_estimators=200; total time=   1.5s\n",
      "[CV] END max_depth=15, max_features=5, min_samples_split=8, n_estimators=200; total time=   1.4s\n",
      "[CV] END max_depth=15, max_features=5, min_samples_split=8, n_estimators=200; total time=   1.4s\n",
      "[CV] END max_depth=15, max_features=7, min_samples_split=8, n_estimators=500; total time=   4.3s\n",
      "[CV] END max_depth=10, max_features=7, min_samples_split=20, n_estimators=200; total time=   1.4s\n",
      "[CV] END max_depth=8, max_features=7, min_samples_split=8, n_estimators=1000; total time=   6.2s\n",
      "[CV] END max_depth=8, max_features=8, min_samples_split=20, n_estimators=100; total time=   0.7s\n",
      "[CV] END max_depth=8, max_features=5, min_samples_split=2, n_estimators=500; total time=   2.6s\n",
      "[CV] END max_depth=8, max_features=auto, min_samples_split=15, n_estimators=500; total time=   9.4s\n",
      "[CV] END max_depth=8, max_features=8, min_samples_split=8, n_estimators=1000; total time=   7.2s\n",
      "[CV] END max_depth=8, max_features=auto, min_samples_split=8, n_estimators=500; total time=  10.5s\n",
      "[CV] END max_depth=10, max_features=5, min_samples_split=2, n_estimators=200; total time=   1.3s\n",
      "[CV] END max_depth=8, max_features=7, min_samples_split=15, n_estimators=1000; total time=   6.4s\n",
      "[CV] END max_depth=None, max_features=7, min_samples_split=20, n_estimators=500; total time=   3.8s\n",
      "[CV] END max_depth=10, max_features=8, min_samples_split=20, n_estimators=1000; total time=   7.6s\n",
      "[CV] END max_depth=15, max_features=8, min_samples_split=2, n_estimators=200; total time=   2.3s\n",
      "[CV] END max_depth=15, max_features=8, min_samples_split=2, n_estimators=200; total time=   2.3s\n",
      "[CV] END max_depth=8, max_features=7, min_samples_split=8, n_estimators=100; total time=   0.6s\n",
      "[CV] END max_depth=8, max_features=7, min_samples_split=8, n_estimators=100; total time=   0.6s\n",
      "[CV] END max_depth=10, max_features=7, min_samples_split=2, n_estimators=500; total time=   3.7s\n",
      "[CV] END max_depth=8, max_features=8, min_samples_split=15, n_estimators=500; total time=   3.4s\n",
      "[CV] END max_depth=15, max_features=5, min_samples_split=2, n_estimators=100; total time=   1.0s\n",
      "[CV] END max_depth=8, max_features=5, min_samples_split=2, n_estimators=1000; total time=   5.0s\n",
      "[CV] END colsample_bytree=1, learning_rate=0.01, max_depth=12, n_estimators=100; total time=   2.0s\n",
      "[CV] END colsample_bytree=0.5, learning_rate=0.01, max_depth=30, n_estimators=100; total time=   2.4s\n",
      "[CV] END colsample_bytree=0.4, learning_rate=0.1, max_depth=30, n_estimators=200; total time=   4.4s\n",
      "[CV] END colsample_bytree=0.3, learning_rate=0.1, max_depth=12, n_estimators=100; total time=   1.6s\n",
      "[CV] END colsample_bytree=0.3, learning_rate=0.01, max_depth=20, n_estimators=300; total time=   6.6s\n",
      "[CV] END colsample_bytree=0.5, learning_rate=0.01, max_depth=30, n_estimators=200; total time=   6.1s\n",
      "[CV] END colsample_bytree=1, learning_rate=0.1, max_depth=20, n_estimators=200; total time=   4.3s\n",
      "[CV] END colsample_bytree=0.8, learning_rate=0.1, max_depth=8, n_estimators=200; total time=   1.3s\n",
      "[CV] END colsample_bytree=0.8, learning_rate=0.1, max_depth=8, n_estimators=200; total time=   1.2s\n",
      "[CV] END colsample_bytree=0.5, learning_rate=0.01, max_depth=30, n_estimators=300; total time=   8.4s\n",
      "[CV] END colsample_bytree=0.8, learning_rate=0.1, max_depth=5, n_estimators=200; total time=   0.4s\n",
      "[CV] END colsample_bytree=0.3, learning_rate=0.1, max_depth=8, n_estimators=200; total time=   0.8s\n",
      "[CV] END colsample_bytree=0.8, learning_rate=0.01, max_depth=30, n_estimators=200; total time=   5.0s\n",
      "[CV] END colsample_bytree=0.4, learning_rate=0.1, max_depth=20, n_estimators=200; total time=   4.0s\n",
      "[CV] END colsample_bytree=0.8, learning_rate=0.01, max_depth=12, n_estimators=100; total time=   1.8s\n",
      "[CV] END colsample_bytree=0.8, learning_rate=0.01, max_depth=12, n_estimators=100; total time=   1.9s\n",
      "[CV] END colsample_bytree=0.5, learning_rate=0.1, max_depth=20, n_estimators=100; total time=   3.6s\n",
      "[CV] END colsample_bytree=1, learning_rate=0.01, max_depth=30, n_estimators=200; total time=   5.7s\n",
      "[CV] END colsample_bytree=0.8, learning_rate=0.1, max_depth=30, n_estimators=200; total time=   4.5s\n",
      "[CV] END colsample_bytree=0.4, learning_rate=0.1, max_depth=30, n_estimators=100; total time=   3.7s\n",
      "[CV] END colsample_bytree=0.3, learning_rate=0.01, max_depth=30, n_estimators=100; total time=   2.0s\n",
      "[CV] END colsample_bytree=0.5, learning_rate=0.1, max_depth=8, n_estimators=100; total time=   0.5s\n",
      "[CV] END colsample_bytree=0.5, learning_rate=0.1, max_depth=20, n_estimators=200; total time=   4.0s\n",
      "[CV] END colsample_bytree=0.4, learning_rate=0.01, max_depth=8, n_estimators=300; total time=   1.3s\n",
      "[CV] END colsample_bytree=0.5, learning_rate=0.1, max_depth=12, n_estimators=200; total time=   3.3s\n",
      "[CV] END colsample_bytree=0.3, learning_rate=0.01, max_depth=8, n_estimators=200; total time=   0.8s\n",
      "[CV] END colsample_bytree=0.5, learning_rate=0.1, max_depth=12, n_estimators=300; total time=   3.0s\n",
      "[CV] END colsample_bytree=0.8, learning_rate=0.1, max_depth=20, n_estimators=200; total time=   4.1s\n",
      "[CV] END colsample_bytree=0.8, learning_rate=0.01, max_depth=30, n_estimators=300; total time=   8.9s\n",
      "[CV] END colsample_bytree=0.4, learning_rate=0.01, max_depth=30, n_estimators=200; total time=   4.7s\n",
      "[CV] END colsample_bytree=0.8, learning_rate=0.1, max_depth=8, n_estimators=100; total time=   0.7s\n",
      "[CV] END colsample_bytree=0.4, learning_rate=0.1, max_depth=12, n_estimators=100; total time=   1.8s\n",
      "[CV] END colsample_bytree=0.3, learning_rate=0.1, max_depth=5, n_estimators=200; total time=   0.4s\n",
      "[CV] END colsample_bytree=0.3, learning_rate=0.1, max_depth=5, n_estimators=200; total time=   0.4s\n",
      "[CV] END colsample_bytree=0.3, learning_rate=0.01, max_depth=30, n_estimators=200; total time=   3.9s\n",
      "[CV] END colsample_bytree=1, learning_rate=0.1, max_depth=12, n_estimators=100; total time=   2.4s\n",
      "[CV] END colsample_bytree=0.4, learning_rate=0.1, max_depth=5, n_estimators=100; total time=   0.2s\n",
      "[CV] END colsample_bytree=0.4, learning_rate=0.1, max_depth=5, n_estimators=100; total time=   0.2s\n",
      "[CV] END colsample_bytree=0.5, learning_rate=0.01, max_depth=5, n_estimators=100; total time=   0.2s\n",
      "[CV] END colsample_bytree=0.5, learning_rate=0.01, max_depth=20, n_estimators=300; total time=   4.9s\n",
      "[CV] END .....................learning_rate=0.1, max_depth=5; total time=   3.0s\n",
      "[CV] END ....................learning_rate=0.1, max_depth=12; total time= 2.5min\n",
      "[CV] END ....................learning_rate=0.6, max_depth=12; total time= 2.3min\n"
     ]
    },
    {
     "name": "stdout",
     "output_type": "stream",
     "text": [
      "[CV] END max_depth=8, max_features=7, min_samples_split=15, n_estimators=200; total time=   1.5s\n",
      "[CV] END max_depth=15, max_features=8, min_samples_split=15, n_estimators=200; total time=   1.7s\n",
      "[CV] END max_depth=15, max_features=8, min_samples_split=15, n_estimators=200; total time=   1.8s\n",
      "[CV] END max_depth=15, max_features=auto, min_samples_split=2, n_estimators=1000; total time=  36.2s\n",
      "[CV] END max_depth=5, max_features=8, min_samples_split=8, n_estimators=500; total time=   3.2s\n",
      "[CV] END max_depth=15, max_features=5, min_samples_split=2, n_estimators=500; total time=   5.2s\n",
      "[CV] END max_depth=15, max_features=8, min_samples_split=2, n_estimators=500; total time=   6.4s\n",
      "[CV] END max_depth=10, max_features=5, min_samples_split=15, n_estimators=500; total time=   3.2s\n",
      "[CV] END max_depth=5, max_features=5, min_samples_split=8, n_estimators=1000; total time=   3.9s\n",
      "[CV] END max_depth=5, max_features=5, min_samples_split=20, n_estimators=1000; total time=   3.9s\n",
      "[CV] END max_depth=8, max_features=auto, min_samples_split=2, n_estimators=500; total time=  10.5s\n",
      "[CV] END max_depth=8, max_features=5, min_samples_split=20, n_estimators=200; total time=   1.0s\n",
      "[CV] END max_depth=15, max_features=7, min_samples_split=15, n_estimators=100; total time=   0.7s\n",
      "[CV] END max_depth=15, max_features=7, min_samples_split=15, n_estimators=100; total time=   0.7s\n",
      "[CV] END max_depth=15, max_features=8, min_samples_split=8, n_estimators=1000; total time=   9.4s\n",
      "[CV] END max_depth=10, max_features=8, min_samples_split=8, n_estimators=100; total time=   0.8s\n",
      "[CV] END max_depth=5, max_features=auto, min_samples_split=2, n_estimators=500; total time=   6.6s\n",
      "[CV] END max_depth=10, max_features=5, min_samples_split=15, n_estimators=1000; total time=   5.8s\n",
      "[CV] END max_depth=15, max_features=8, min_samples_split=2, n_estimators=100; total time=   1.2s\n",
      "[CV] END max_depth=15, max_features=8, min_samples_split=2, n_estimators=100; total time=   1.1s\n",
      "[CV] END max_depth=None, max_features=7, min_samples_split=15, n_estimators=1000; total time=   7.8s\n",
      "[CV] END max_depth=8, max_features=8, min_samples_split=8, n_estimators=500; total time=   3.5s\n",
      "[CV] END max_depth=15, max_features=8, min_samples_split=20, n_estimators=200; total time=   1.6s\n",
      "[CV] END max_depth=10, max_features=7, min_samples_split=20, n_estimators=500; total time=   3.3s\n",
      "[CV] END max_depth=8, max_features=8, min_samples_split=20, n_estimators=100; total time=   0.7s\n",
      "[CV] END max_depth=8, max_features=5, min_samples_split=2, n_estimators=500; total time=   2.6s\n",
      "[CV] END max_depth=None, max_features=auto, min_samples_split=2, n_estimators=500; total time=  17.8s\n",
      "[CV] END max_depth=5, max_features=7, min_samples_split=15, n_estimators=100; total time=   0.5s\n",
      "[CV] END max_depth=None, max_features=5, min_samples_split=8, n_estimators=100; total time=   0.8s\n",
      "[CV] END max_depth=None, max_features=8, min_samples_split=8, n_estimators=1000; total time=  10.3s\n",
      "[CV] END max_depth=None, max_features=5, min_samples_split=20, n_estimators=500; total time=   3.0s\n",
      "[CV] END max_depth=None, max_features=5, min_samples_split=20, n_estimators=500; total time=   3.0s\n",
      "[CV] END max_depth=15, max_features=5, min_samples_split=8, n_estimators=1000; total time=   7.1s\n",
      "[CV] END max_depth=10, max_features=8, min_samples_split=20, n_estimators=1000; total time=   7.6s\n",
      "[CV] END max_depth=15, max_features=8, min_samples_split=2, n_estimators=200; total time=   2.2s\n",
      "[CV] END max_depth=8, max_features=7, min_samples_split=8, n_estimators=100; total time=   0.6s\n",
      "[CV] END max_depth=10, max_features=7, min_samples_split=2, n_estimators=500; total time=   3.7s\n",
      "[CV] END max_depth=8, max_features=8, min_samples_split=15, n_estimators=500; total time=   3.5s\n",
      "[CV] END max_depth=8, max_features=8, min_samples_split=2, n_estimators=200; total time=   1.6s\n",
      "[CV] END max_depth=10, max_features=7, min_samples_split=15, n_estimators=100; total time=   0.7s\n",
      "[CV] END colsample_bytree=1, learning_rate=0.1, max_depth=12, n_estimators=300; total time=   3.7s\n",
      "[CV] END colsample_bytree=0.3, learning_rate=0.01, max_depth=5, n_estimators=300; total time=   0.5s\n",
      "[CV] END colsample_bytree=0.8, learning_rate=0.1, max_depth=30, n_estimators=300; total time=   4.8s\n",
      "[CV] END colsample_bytree=0.8, learning_rate=0.01, max_depth=5, n_estimators=300; total time=   0.7s\n",
      "[CV] END colsample_bytree=0.8, learning_rate=0.01, max_depth=30, n_estimators=100; total time=   2.4s\n",
      "[CV] END colsample_bytree=0.5, learning_rate=0.01, max_depth=30, n_estimators=200; total time=   5.3s\n",
      "[CV] END colsample_bytree=0.4, learning_rate=0.01, max_depth=20, n_estimators=300; total time=   8.5s\n",
      "[CV] END colsample_bytree=0.8, learning_rate=0.1, max_depth=30, n_estimators=100; total time=   3.8s\n",
      "[CV] END colsample_bytree=0.5, learning_rate=0.01, max_depth=30, n_estimators=300; total time=   8.6s\n",
      "[CV] END colsample_bytree=1, learning_rate=0.01, max_depth=30, n_estimators=300; total time=  10.1s\n",
      "[CV] END colsample_bytree=0.8, learning_rate=0.1, max_depth=20, n_estimators=100; total time=   4.0s\n",
      "[CV] END colsample_bytree=1, learning_rate=0.01, max_depth=12, n_estimators=200; total time=   4.7s\n",
      "[CV] END colsample_bytree=1, learning_rate=0.01, max_depth=30, n_estimators=200; total time=   6.1s\n",
      "[CV] END colsample_bytree=0.3, learning_rate=0.1, max_depth=30, n_estimators=200; total time=   4.2s\n",
      "[CV] END colsample_bytree=0.3, learning_rate=0.1, max_depth=30, n_estimators=100; total time=   3.5s\n",
      "[CV] END colsample_bytree=0.4, learning_rate=0.01, max_depth=12, n_estimators=300; total time=   4.6s\n",
      "[CV] END colsample_bytree=0.4, learning_rate=0.01, max_depth=8, n_estimators=200; total time=   1.0s\n",
      "[CV] END colsample_bytree=0.4, learning_rate=0.01, max_depth=8, n_estimators=300; total time=   1.3s\n",
      "[CV] END colsample_bytree=0.8, learning_rate=0.01, max_depth=12, n_estimators=200; total time=   4.3s\n",
      "[CV] END colsample_bytree=0.4, learning_rate=0.01, max_depth=30, n_estimators=100; total time=   2.2s\n",
      "[CV] END colsample_bytree=0.4, learning_rate=0.1, max_depth=20, n_estimators=300; total time=   4.1s\n",
      "[CV] END colsample_bytree=0.3, learning_rate=0.01, max_depth=12, n_estimators=100; total time=   1.1s\n",
      "[CV] END colsample_bytree=0.8, learning_rate=0.1, max_depth=8, n_estimators=300; total time=   1.7s\n",
      "[CV] END colsample_bytree=0.4, learning_rate=0.01, max_depth=12, n_estimators=200; total time=   2.7s\n",
      "[CV] END colsample_bytree=0.4, learning_rate=0.1, max_depth=8, n_estimators=100; total time=   0.6s\n",
      "[CV] END colsample_bytree=0.4, learning_rate=0.01, max_depth=30, n_estimators=200; total time=   4.7s\n",
      "[CV] END colsample_bytree=0.8, learning_rate=0.01, max_depth=20, n_estimators=300; total time=   9.3s\n",
      "[CV] END colsample_bytree=0.8, learning_rate=0.01, max_depth=20, n_estimators=200; total time=   5.3s\n",
      "[CV] END .....................learning_rate=0.1, max_depth=4; total time=   1.9s\n",
      "[CV] END .....................learning_rate=0.1, max_depth=8; total time=  17.8s\n",
      "[CV] END ....................learning_rate=0.01, max_depth=6; total time=   7.9s\n",
      "[CV] END ...................learning_rate=0.01, max_depth=12; total time= 2.6min\n",
      "[CV] END .....................learning_rate=0.5, max_depth=6; total time=  11.2s\n",
      "[CV] END ....................learning_rate=0.5, max_depth=12; total time= 2.0min\n",
      "[CV] END max_depth=15, max_features=5, min_samples_split=15, n_estimators=1000; total time=   7.0s\n",
      "[CV] END max_depth=15, max_features=auto, min_samples_split=2, n_estimators=1000; total time=  36.7s\n",
      "[CV] END max_depth=15, max_features=auto, min_samples_split=20, n_estimators=100; total time=   2.5s\n",
      "[CV] END max_depth=15, max_features=auto, min_samples_split=20, n_estimators=200; total time=   5.4s\n",
      "[CV] END max_depth=None, max_features=7, min_samples_split=15, n_estimators=100; total time=   0.8s\n",
      "[CV] END max_depth=None, max_features=7, min_samples_split=15, n_estimators=100; total time=   0.8s\n",
      "[CV] END max_depth=None, max_features=7, min_samples_split=15, n_estimators=100; total time=   0.8s\n",
      "[CV] END max_depth=10, max_features=5, min_samples_split=15, n_estimators=500; total time=   3.2s\n",
      "[CV] END max_depth=15, max_features=8, min_samples_split=2, n_estimators=1000; total time=  12.9s\n",
      "[CV] END max_depth=5, max_features=auto, min_samples_split=20, n_estimators=200; total time=   2.6s\n",
      "[CV] END max_depth=10, max_features=7, min_samples_split=8, n_estimators=100; total time=   0.7s\n",
      "[CV] END max_depth=10, max_features=7, min_samples_split=8, n_estimators=100; total time=   0.8s\n",
      "[CV] END max_depth=10, max_features=7, min_samples_split=8, n_estimators=100; total time=   0.7s\n",
      "[CV] END max_depth=None, max_features=auto, min_samples_split=20, n_estimators=500; total time=  11.3s\n",
      "[CV] END max_depth=5, max_features=5, min_samples_split=20, n_estimators=500; total time=   1.9s\n",
      "[CV] END max_depth=5, max_features=5, min_samples_split=20, n_estimators=500; total time=   1.9s\n",
      "[CV] END max_depth=10, max_features=8, min_samples_split=8, n_estimators=100; total time=   0.9s\n",
      "[CV] END max_depth=None, max_features=5, min_samples_split=20, n_estimators=100; total time=   0.6s\n",
      "[CV] END max_depth=None, max_features=5, min_samples_split=20, n_estimators=100; total time=   0.6s\n",
      "[CV] END max_depth=5, max_features=7, min_samples_split=20, n_estimators=100; total time=   0.4s\n",
      "[CV] END max_depth=5, max_features=7, min_samples_split=20, n_estimators=100; total time=   0.5s\n",
      "[CV] END max_depth=8, max_features=5, min_samples_split=2, n_estimators=200; total time=   1.0s\n",
      "[CV] END max_depth=10, max_features=5, min_samples_split=15, n_estimators=1000; total time=   5.7s\n",
      "[CV] END max_depth=10, max_features=7, min_samples_split=8, n_estimators=200; total time=   1.4s\n",
      "[CV] END max_depth=15, max_features=auto, min_samples_split=2, n_estimators=100; total time=   3.5s\n",
      "[CV] END max_depth=None, max_features=7, min_samples_split=15, n_estimators=1000; total time=   7.8s\n",
      "[CV] END max_depth=8, max_features=8, min_samples_split=8, n_estimators=500; total time=   3.4s\n",
      "[CV] END max_depth=15, max_features=8, min_samples_split=20, n_estimators=200; total time=   1.6s\n",
      "[CV] END max_depth=15, max_features=8, min_samples_split=20, n_estimators=200; total time=   1.6s\n",
      "[CV] END max_depth=10, max_features=7, min_samples_split=20, n_estimators=500; total time=   3.3s\n",
      "[CV] END max_depth=None, max_features=auto, min_samples_split=2, n_estimators=500; total time=  17.6s\n",
      "[CV] END max_depth=8, max_features=auto, min_samples_split=8, n_estimators=500; total time=  10.6s\n",
      "[CV] END max_depth=10, max_features=5, min_samples_split=2, n_estimators=200; total time=   1.3s\n",
      "[CV] END max_depth=10, max_features=5, min_samples_split=2, n_estimators=200; total time=   1.3s\n",
      "[CV] END max_depth=8, max_features=7, min_samples_split=15, n_estimators=1000; total time=   6.3s\n",
      "[CV] END max_depth=None, max_features=7, min_samples_split=20, n_estimators=500; total time=   3.8s\n",
      "[CV] END max_depth=10, max_features=8, min_samples_split=20, n_estimators=1000; total time=   7.6s\n",
      "[CV] END max_depth=15, max_features=auto, min_samples_split=8, n_estimators=500; total time=  13.4s\n",
      "[CV] END max_depth=8, max_features=8, min_samples_split=2, n_estimators=200; total time=   1.6s\n",
      "[CV] END max_depth=10, max_features=7, min_samples_split=15, n_estimators=100; total time=   0.7s\n",
      "[CV] END max_depth=10, max_features=7, min_samples_split=15, n_estimators=100; total time=   0.7s\n",
      "[CV] END colsample_bytree=1, learning_rate=0.01, max_depth=12, n_estimators=100; total time=   2.0s\n",
      "[CV] END colsample_bytree=1, learning_rate=0.01, max_depth=30, n_estimators=100; total time=   3.0s\n",
      "[CV] END colsample_bytree=0.3, learning_rate=0.01, max_depth=20, n_estimators=200; total time=   4.4s\n",
      "[CV] END colsample_bytree=0.8, learning_rate=0.01, max_depth=5, n_estimators=300; total time=   0.7s\n",
      "[CV] END colsample_bytree=1, learning_rate=0.01, max_depth=12, n_estimators=300; total time=   7.2s\n",
      "[CV] END colsample_bytree=0.4, learning_rate=0.01, max_depth=20, n_estimators=300; total time=   8.6s\n",
      "[CV] END colsample_bytree=0.8, learning_rate=0.1, max_depth=30, n_estimators=100; total time=   3.8s\n",
      "[CV] END colsample_bytree=0.5, learning_rate=0.01, max_depth=12, n_estimators=300; total time=   5.2s\n",
      "[CV] END colsample_bytree=1, learning_rate=0.01, max_depth=30, n_estimators=300; total time=  10.0s\n",
      "[CV] END colsample_bytree=0.4, learning_rate=0.01, max_depth=30, n_estimators=300; total time=   8.4s\n",
      "[CV] END colsample_bytree=0.4, learning_rate=0.1, max_depth=30, n_estimators=300; total time=   4.0s\n",
      "[CV] END colsample_bytree=0.5, learning_rate=0.01, max_depth=8, n_estimators=100; total time=   0.6s\n",
      "[CV] END colsample_bytree=0.5, learning_rate=0.01, max_depth=8, n_estimators=100; total time=   0.5s\n",
      "[CV] END colsample_bytree=1, learning_rate=0.01, max_depth=5, n_estimators=200; total time=   0.4s\n",
      "[CV] END colsample_bytree=0.5, learning_rate=0.01, max_depth=20, n_estimators=200; total time=   5.1s\n",
      "[CV] END colsample_bytree=0.3, learning_rate=0.1, max_depth=30, n_estimators=200; total time=   4.3s\n",
      "[CV] END colsample_bytree=0.3, learning_rate=0.1, max_depth=30, n_estimators=100; total time=   3.7s\n",
      "[CV] END colsample_bytree=0.5, learning_rate=0.1, max_depth=8, n_estimators=100; total time=   0.6s\n",
      "[CV] END colsample_bytree=0.5, learning_rate=0.1, max_depth=8, n_estimators=100; total time=   0.6s\n",
      "[CV] END colsample_bytree=0.5, learning_rate=0.1, max_depth=20, n_estimators=200; total time=   3.9s\n",
      "[CV] END colsample_bytree=0.5, learning_rate=0.1, max_depth=5, n_estimators=200; total time=   0.3s\n",
      "[CV] END colsample_bytree=0.4, learning_rate=0.1, max_depth=20, n_estimators=100; total time=   3.8s\n",
      "[CV] END colsample_bytree=0.3, learning_rate=0.01, max_depth=8, n_estimators=200; total time=   0.8s\n",
      "[CV] END colsample_bytree=0.4, learning_rate=0.01, max_depth=30, n_estimators=100; total time=   2.2s\n",
      "[CV] END colsample_bytree=1, learning_rate=0.01, max_depth=20, n_estimators=200; total time=   6.1s\n",
      "[CV] END colsample_bytree=0.8, learning_rate=0.1, max_depth=8, n_estimators=300; total time=   1.8s\n",
      "[CV] END colsample_bytree=0.5, learning_rate=0.1, max_depth=5, n_estimators=100; total time=   0.2s\n",
      "[CV] END colsample_bytree=0.5, learning_rate=0.1, max_depth=5, n_estimators=100; total time=   0.2s\n",
      "[CV] END colsample_bytree=0.8, learning_rate=0.01, max_depth=5, n_estimators=200; total time=   0.5s\n",
      "[CV] END colsample_bytree=0.8, learning_rate=0.01, max_depth=12, n_estimators=300; total time=   6.0s\n",
      "[CV] END colsample_bytree=0.8, learning_rate=0.1, max_depth=12, n_estimators=200; total time=   3.0s\n",
      "[CV] END colsample_bytree=0.8, learning_rate=0.1, max_depth=8, n_estimators=100; total time=   0.7s\n",
      "[CV] END colsample_bytree=0.8, learning_rate=0.1, max_depth=8, n_estimators=100; total time=   0.7s\n",
      "[CV] END colsample_bytree=0.4, learning_rate=0.1, max_depth=12, n_estimators=100; total time=   1.8s\n",
      "[CV] END colsample_bytree=0.3, learning_rate=0.1, max_depth=5, n_estimators=200; total time=   0.4s\n",
      "[CV] END colsample_bytree=0.3, learning_rate=0.01, max_depth=30, n_estimators=200; total time=   3.9s\n",
      "[CV] END colsample_bytree=0.5, learning_rate=0.1, max_depth=5, n_estimators=300; total time=   0.5s\n",
      "[CV] END colsample_bytree=0.5, learning_rate=0.1, max_depth=30, n_estimators=100; total time=   3.6s\n",
      "[CV] END colsample_bytree=0.5, learning_rate=0.01, max_depth=20, n_estimators=300; total time=   4.3s\n",
      "[CV] END .....................learning_rate=0.1, max_depth=6; total time=   5.1s\n",
      "[CV] END ....................learning_rate=0.01, max_depth=4; total time=   3.3s\n",
      "[CV] END ....................learning_rate=0.01, max_depth=4; total time=   3.3s\n",
      "[CV] END ....................learning_rate=0.01, max_depth=5; total time=   4.5s\n",
      "[CV] END ....................learning_rate=0.01, max_depth=5; total time=   4.9s\n",
      "[CV] END ....................learning_rate=0.01, max_depth=8; total time=  23.5s\n",
      "[CV] END ...................learning_rate=0.01, max_depth=12; total time= 2.6min\n",
      "[CV] END ....................learning_rate=0.5, max_depth=12; total time= 1.9min\n"
     ]
    },
    {
     "name": "stdout",
     "output_type": "stream",
     "text": [
      "[CV] END max_depth=None, max_features=7, min_samples_split=8, n_estimators=100; total time=   1.0s\n",
      "[CV] END max_depth=8, max_features=7, min_samples_split=15, n_estimators=200; total time=   1.3s\n",
      "[CV] END max_depth=15, max_features=8, min_samples_split=15, n_estimators=200; total time=   1.6s\n",
      "[CV] END max_depth=15, max_features=auto, min_samples_split=2, n_estimators=1000; total time=  36.3s\n",
      "[CV] END max_depth=5, max_features=8, min_samples_split=8, n_estimators=500; total time=   3.7s\n",
      "[CV] END max_depth=15, max_features=5, min_samples_split=2, n_estimators=500; total time=   4.9s\n",
      "[CV] END max_depth=15, max_features=auto, min_samples_split=20, n_estimators=200; total time=   5.0s\n",
      "[CV] END max_depth=10, max_features=5, min_samples_split=15, n_estimators=500; total time=   3.3s\n",
      "[CV] END max_depth=15, max_features=8, min_samples_split=2, n_estimators=1000; total time=  12.8s\n",
      "[CV] END max_depth=5, max_features=auto, min_samples_split=20, n_estimators=200; total time=   2.6s\n",
      "[CV] END max_depth=5, max_features=auto, min_samples_split=20, n_estimators=200; total time=   2.7s\n",
      "[CV] END max_depth=None, max_features=auto, min_samples_split=20, n_estimators=500; total time=  11.0s\n",
      "[CV] END max_depth=None, max_features=7, min_samples_split=2, n_estimators=500; total time=   5.8s\n",
      "[CV] END max_depth=None, max_features=5, min_samples_split=20, n_estimators=100; total time=   0.6s\n",
      "[CV] END max_depth=5, max_features=7, min_samples_split=20, n_estimators=100; total time=   0.4s\n",
      "[CV] END max_depth=8, max_features=5, min_samples_split=2, n_estimators=200; total time=   1.0s\n",
      "[CV] END max_depth=5, max_features=5, min_samples_split=15, n_estimators=1000; total time=   3.8s\n",
      "[CV] END max_depth=8, max_features=auto, min_samples_split=2, n_estimators=200; total time=   4.1s\n",
      "[CV] END max_depth=15, max_features=auto, min_samples_split=2, n_estimators=100; total time=   3.4s\n",
      "[CV] END max_depth=10, max_features=8, min_samples_split=15, n_estimators=200; total time=   1.5s\n",
      "[CV] END max_depth=10, max_features=8, min_samples_split=15, n_estimators=200; total time=   1.5s\n",
      "[CV] END max_depth=15, max_features=5, min_samples_split=8, n_estimators=200; total time=   1.4s\n",
      "[CV] END max_depth=15, max_features=7, min_samples_split=8, n_estimators=500; total time=   4.3s\n",
      "[CV] END max_depth=10, max_features=auto, min_samples_split=15, n_estimators=1000; total time=  22.0s\n",
      "[CV] END max_depth=8, max_features=8, min_samples_split=8, n_estimators=1000; total time=   7.2s\n",
      "[CV] END max_depth=None, max_features=5, min_samples_split=8, n_estimators=100; total time=   0.8s\n",
      "[CV] END max_depth=8, max_features=7, min_samples_split=8, n_estimators=200; total time=   1.3s\n",
      "[CV] END max_depth=8, max_features=7, min_samples_split=8, n_estimators=200; total time=   1.4s\n",
      "[CV] END max_depth=None, max_features=auto, min_samples_split=2, n_estimators=1000; total time=  35.9s\n",
      "[CV] END max_depth=None, max_features=7, min_samples_split=20, n_estimators=200; total time=   1.5s\n",
      "[CV] END max_depth=15, max_features=5, min_samples_split=2, n_estimators=100; total time=   1.0s\n",
      "[CV] END max_depth=8, max_features=5, min_samples_split=2, n_estimators=1000; total time=   5.0s\n",
      "[CV] END colsample_bytree=1, learning_rate=0.01, max_depth=12, n_estimators=100; total time=   2.2s\n",
      "[CV] END colsample_bytree=0.5, learning_rate=0.01, max_depth=30, n_estimators=100; total time=   2.3s\n",
      "[CV] END colsample_bytree=0.4, learning_rate=0.1, max_depth=30, n_estimators=200; total time=   4.4s\n",
      "[CV] END colsample_bytree=0.8, learning_rate=0.01, max_depth=5, n_estimators=300; total time=   0.8s\n",
      "[CV] END colsample_bytree=0.8, learning_rate=0.01, max_depth=30, n_estimators=100; total time=   2.4s\n",
      "[CV] END colsample_bytree=0.3, learning_rate=0.01, max_depth=20, n_estimators=300; total time=   6.7s\n",
      "[CV] END colsample_bytree=0.3, learning_rate=0.1, max_depth=20, n_estimators=300; total time=   5.1s\n",
      "[CV] END colsample_bytree=1, learning_rate=0.01, max_depth=8, n_estimators=200; total time=   1.5s\n",
      "[CV] END colsample_bytree=0.4, learning_rate=0.01, max_depth=8, n_estimators=100; total time=   0.5s\n",
      "[CV] END colsample_bytree=1, learning_rate=0.1, max_depth=5, n_estimators=100; total time=   0.2s\n",
      "[CV] END colsample_bytree=1, learning_rate=0.1, max_depth=5, n_estimators=300; total time=   0.6s\n",
      "[CV] END colsample_bytree=0.3, learning_rate=0.1, max_depth=30, n_estimators=300; total time=   4.3s\n",
      "[CV] END colsample_bytree=0.3, learning_rate=0.1, max_depth=12, n_estimators=300; total time=   3.2s\n",
      "[CV] END colsample_bytree=1, learning_rate=0.1, max_depth=20, n_estimators=100; total time=   4.2s\n",
      "[CV] END colsample_bytree=0.8, learning_rate=0.1, max_depth=5, n_estimators=200; total time=   0.4s\n",
      "[CV] END colsample_bytree=0.3, learning_rate=0.1, max_depth=8, n_estimators=200; total time=   0.7s\n",
      "[CV] END colsample_bytree=1, learning_rate=0.1, max_depth=20, n_estimators=300; total time=   4.1s\n",
      "[CV] END colsample_bytree=0.3, learning_rate=0.01, max_depth=8, n_estimators=100; total time=   0.4s\n",
      "[CV] END colsample_bytree=0.3, learning_rate=0.01, max_depth=8, n_estimators=100; total time=   0.4s\n",
      "[CV] END colsample_bytree=0.4, learning_rate=0.1, max_depth=20, n_estimators=200; total time=   4.1s\n",
      "[CV] END colsample_bytree=0.8, learning_rate=0.1, max_depth=20, n_estimators=100; total time=   4.0s\n",
      "[CV] END colsample_bytree=1, learning_rate=0.01, max_depth=12, n_estimators=200; total time=   4.8s\n",
      "[CV] END colsample_bytree=0.5, learning_rate=0.01, max_depth=8, n_estimators=100; total time=   0.6s\n",
      "[CV] END colsample_bytree=1, learning_rate=0.01, max_depth=5, n_estimators=200; total time=   0.5s\n",
      "[CV] END colsample_bytree=0.4, learning_rate=0.1, max_depth=8, n_estimators=200; total time=   0.8s\n",
      "[CV] END colsample_bytree=0.4, learning_rate=0.1, max_depth=8, n_estimators=300; total time=   1.3s\n",
      "[CV] END colsample_bytree=0.4, learning_rate=0.1, max_depth=8, n_estimators=300; total time=   1.3s\n",
      "[CV] END colsample_bytree=0.3, learning_rate=0.1, max_depth=30, n_estimators=200; total time=   4.6s\n",
      "[CV] END colsample_bytree=0.4, learning_rate=0.1, max_depth=30, n_estimators=100; total time=   3.6s\n",
      "[CV] END colsample_bytree=0.4, learning_rate=0.01, max_depth=12, n_estimators=300; total time=   4.8s\n",
      "[CV] END colsample_bytree=0.4, learning_rate=0.1, max_depth=12, n_estimators=200; total time=   2.7s\n",
      "[CV] END colsample_bytree=0.4, learning_rate=0.1, max_depth=20, n_estimators=100; total time=   3.9s\n",
      "[CV] END colsample_bytree=0.8, learning_rate=0.1, max_depth=5, n_estimators=100; total time=   0.2s\n",
      "[CV] END colsample_bytree=0.8, learning_rate=0.1, max_depth=5, n_estimators=100; total time=   0.3s\n",
      "[CV] END colsample_bytree=0.5, learning_rate=0.1, max_depth=12, n_estimators=300; total time=   2.8s\n",
      "[CV] END colsample_bytree=0.8, learning_rate=0.1, max_depth=20, n_estimators=200; total time=   4.0s\n",
      "[CV] END colsample_bytree=0.3, learning_rate=0.01, max_depth=12, n_estimators=100; total time=   1.1s\n",
      "[CV] END colsample_bytree=0.8, learning_rate=0.1, max_depth=8, n_estimators=300; total time=   1.6s\n",
      "[CV] END colsample_bytree=0.4, learning_rate=0.01, max_depth=12, n_estimators=200; total time=   2.7s\n",
      "[CV] END colsample_bytree=0.4, learning_rate=0.1, max_depth=8, n_estimators=100; total time=   0.5s\n",
      "[CV] END colsample_bytree=0.4, learning_rate=0.1, max_depth=8, n_estimators=100; total time=   0.5s\n",
      "[CV] END colsample_bytree=0.4, learning_rate=0.01, max_depth=30, n_estimators=200; total time=   4.4s\n",
      "[CV] END colsample_bytree=0.4, learning_rate=0.01, max_depth=20, n_estimators=200; total time=   4.8s\n",
      "[CV] END colsample_bytree=0.4, learning_rate=0.1, max_depth=12, n_estimators=100; total time=   1.9s\n",
      "[CV] END colsample_bytree=0.3, learning_rate=0.01, max_depth=30, n_estimators=200; total time=   4.0s\n",
      "[CV] END colsample_bytree=0.5, learning_rate=0.1, max_depth=30, n_estimators=100; total time=   3.6s\n",
      "[CV] END .....................learning_rate=0.1, max_depth=4; total time=   2.0s\n",
      "[CV] END .....................learning_rate=0.1, max_depth=8; total time=  17.7s\n",
      "[CV] END ....................learning_rate=0.01, max_depth=6; total time=   8.0s\n",
      "[CV] END ...................learning_rate=0.01, max_depth=12; total time= 2.6min\n",
      "[CV] END .....................learning_rate=0.5, max_depth=8; total time=  28.6s\n",
      "[CV] END ....................learning_rate=0.5, max_depth=12; total time= 1.8min\n"
     ]
    },
    {
     "name": "stdout",
     "output_type": "stream",
     "text": [
      "---------------- Best Params for RF -------------------\n",
      "{'n_estimators': 1000, 'min_samples_split': 2, 'max_features': 'auto', 'max_depth': None}\n",
      "---------------- Best Params for XGBoost -------------------\n",
      "{'n_estimators': 200, 'max_depth': 5, 'learning_rate': 0.1, 'colsample_bytree': 0.8}\n",
      "---------------- Best Params for CatBoost -------------------\n",
      "{'max_depth': 5, 'learning_rate': 0.1}\n"
     ]
    }
   ],
   "source": [
    "from sklearn.model_selection import RandomizedSearchCV\n",
    "\n",
    "model_param = {}\n",
    "for name, model, params in randomcv_models:\n",
    "    random = RandomizedSearchCV(estimator=model,\n",
    "                                   param_distributions=params,\n",
    "                                   n_iter=100,\n",
    "                                   cv=3,\n",
    "                                   verbose=2,\n",
    "                                   n_jobs=-1)\n",
    "    random.fit(X_train, y_train)\n",
    "    model_param[name] = random.best_params_\n",
    "\n",
    "for model_name in model_param:\n",
    "    print(f\"---------------- Best Params for {model_name} -------------------\")\n",
    "    print(model_param[model_name])"
   ]
  },
  {
   "cell_type": "code",
   "execution_count": 49,
   "id": "bd91eb38",
   "metadata": {},
   "outputs": [],
   "source": [
    "# reInitialize models with best parameters\n",
    "models = {\n",
    "    \"Random Forest Regressor\": RandomForestRegressor(**model_param['RF'], n_jobs=-1),\n",
    "    \"XGBRegressor\": XGBRegressor(**model_param['XGBoost'], n_jobs=-1), \n",
    "     \"CatBoosting Regressor\": CatBoostRegressor(**model_param['CatBoost'],verbose=False)\n",
    "}"
   ]
  },
  {
   "cell_type": "code",
   "execution_count": 50,
   "id": "6d3224cb",
   "metadata": {},
   "outputs": [
    {
     "name": "stdout",
     "output_type": "stream",
     "text": [
      "Random Forest Regressor\n",
      "Model performance for Training set\n",
      "- Root Mean Squared Error: 0.1210\n",
      "- Mean Absolute Error: 0.0776\n",
      "- R2 Score: 0.9946\n",
      "----------------------------------\n",
      "Model performance for Test set\n",
      "- Root Mean Squared Error: 0.3474\n",
      "- Mean Absolute Error: 0.2020\n",
      "- R2 Score: 0.9557\n",
      "===================================\n",
      "\n",
      "\n",
      "XGBRegressor\n",
      "Model performance for Training set\n",
      "- Root Mean Squared Error: 0.1693\n",
      "- Mean Absolute Error: 0.1082\n",
      "- R2 Score: 0.9895\n",
      "----------------------------------\n",
      "Model performance for Test set\n",
      "- Root Mean Squared Error: 0.2970\n",
      "- Mean Absolute Error: 0.1719\n",
      "- R2 Score: 0.9676\n",
      "===================================\n",
      "\n",
      "\n",
      "CatBoosting Regressor\n",
      "Model performance for Training set\n",
      "- Root Mean Squared Error: 0.1461\n",
      "- Mean Absolute Error: 0.0956\n",
      "- R2 Score: 0.9922\n",
      "----------------------------------\n",
      "Model performance for Test set\n",
      "- Root Mean Squared Error: 0.2789\n",
      "- Mean Absolute Error: 0.1609\n",
      "- R2 Score: 0.9714\n",
      "===================================\n",
      "\n",
      "\n"
     ]
    }
   ],
   "source": [
    "retrained_report = evaluate_models(X_train, X_test, y_train, y_test, models)"
   ]
  },
  {
   "cell_type": "code",
   "execution_count": 51,
   "id": "81b0b6ea",
   "metadata": {},
   "outputs": [
    {
     "data": {
      "text/html": [
       "<div>\n",
       "<style scoped>\n",
       "    .dataframe tbody tr th:only-of-type {\n",
       "        vertical-align: middle;\n",
       "    }\n",
       "\n",
       "    .dataframe tbody tr th {\n",
       "        vertical-align: top;\n",
       "    }\n",
       "\n",
       "    .dataframe thead th {\n",
       "        text-align: right;\n",
       "    }\n",
       "</style>\n",
       "<table border=\"1\" class=\"dataframe\">\n",
       "  <thead>\n",
       "    <tr style=\"text-align: right;\">\n",
       "      <th></th>\n",
       "      <th>Model Name</th>\n",
       "      <th>r2_score</th>\n",
       "    </tr>\n",
       "  </thead>\n",
       "  <tbody>\n",
       "    <tr>\n",
       "      <th>2</th>\n",
       "      <td>CatBoosting Regressor</td>\n",
       "      <td>0.971419</td>\n",
       "    </tr>\n",
       "    <tr>\n",
       "      <th>1</th>\n",
       "      <td>XGBRegressor</td>\n",
       "      <td>0.967595</td>\n",
       "    </tr>\n",
       "    <tr>\n",
       "      <th>0</th>\n",
       "      <td>Random Forest Regressor</td>\n",
       "      <td>0.955676</td>\n",
       "    </tr>\n",
       "  </tbody>\n",
       "</table>\n",
       "</div>"
      ],
      "text/plain": [
       "                Model Name  r2_score\n",
       "2    CatBoosting Regressor  0.971419\n",
       "1             XGBRegressor  0.967595\n",
       "0  Random Forest Regressor  0.955676"
      ]
     },
     "execution_count": 51,
     "metadata": {},
     "output_type": "execute_result"
    },
    {
     "name": "stdout",
     "output_type": "stream",
     "text": [
      "[CV] END max_depth=15, max_features=5, min_samples_split=15, n_estimators=1000; total time=   7.2s\n",
      "[CV] END max_depth=8, max_features=5, min_samples_split=8, n_estimators=500; total time=   2.7s\n",
      "[CV] END max_depth=8, max_features=5, min_samples_split=8, n_estimators=500; total time=   2.6s\n",
      "[CV] END max_depth=None, max_features=7, min_samples_split=20, n_estimators=100; total time=   0.7s\n",
      "[CV] END max_depth=None, max_features=8, min_samples_split=2, n_estimators=100; total time=   1.7s\n",
      "[CV] END max_depth=None, max_features=8, min_samples_split=2, n_estimators=100; total time=   1.4s\n",
      "[CV] END max_depth=15, max_features=auto, min_samples_split=2, n_estimators=200; total time=   7.2s\n",
      "[CV] END max_depth=15, max_features=7, min_samples_split=15, n_estimators=500; total time=   4.4s\n",
      "[CV] END max_depth=5, max_features=8, min_samples_split=15, n_estimators=500; total time=   2.4s\n",
      "[CV] END max_depth=10, max_features=auto, min_samples_split=20, n_estimators=100; total time=   2.3s\n",
      "[CV] END max_depth=10, max_features=auto, min_samples_split=2, n_estimators=1000; total time=  28.2s\n",
      "[CV] END max_depth=5, max_features=5, min_samples_split=8, n_estimators=1000; total time=   3.9s\n",
      "[CV] END max_depth=10, max_features=auto, min_samples_split=15, n_estimators=100; total time=   2.3s\n",
      "[CV] END max_depth=8, max_features=auto, min_samples_split=2, n_estimators=500; total time=  10.5s\n",
      "[CV] END max_depth=8, max_features=5, min_samples_split=20, n_estimators=200; total time=   1.0s\n",
      "[CV] END max_depth=8, max_features=5, min_samples_split=20, n_estimators=200; total time=   1.0s\n",
      "[CV] END max_depth=15, max_features=7, min_samples_split=15, n_estimators=100; total time=   0.8s\n",
      "[CV] END max_depth=15, max_features=8, min_samples_split=8, n_estimators=1000; total time=   9.4s\n",
      "[CV] END max_depth=10, max_features=8, min_samples_split=8, n_estimators=100; total time=   0.9s\n",
      "[CV] END max_depth=5, max_features=auto, min_samples_split=2, n_estimators=500; total time=   6.5s\n",
      "[CV] END max_depth=5, max_features=5, min_samples_split=8, n_estimators=500; total time=   1.9s\n",
      "[CV] END max_depth=10, max_features=7, min_samples_split=8, n_estimators=200; total time=   1.4s\n",
      "[CV] END max_depth=10, max_features=8, min_samples_split=8, n_estimators=500; total time=   4.2s\n",
      "[CV] END max_depth=None, max_features=5, min_samples_split=15, n_estimators=1000; total time=   6.2s\n",
      "[CV] END max_depth=5, max_features=auto, min_samples_split=8, n_estimators=100; total time=   1.3s\n",
      "[CV] END max_depth=8, max_features=8, min_samples_split=8, n_estimators=500; total time=   3.5s\n",
      "[CV] END max_depth=8, max_features=7, min_samples_split=8, n_estimators=1000; total time=   6.1s\n",
      "[CV] END max_depth=8, max_features=8, min_samples_split=20, n_estimators=100; total time=   0.7s\n",
      "[CV] END max_depth=8, max_features=5, min_samples_split=2, n_estimators=500; total time=   2.6s\n",
      "[CV] END max_depth=8, max_features=auto, min_samples_split=15, n_estimators=500; total time=   9.3s\n",
      "[CV] END max_depth=8, max_features=auto, min_samples_split=15, n_estimators=500; total time=  10.2s\n",
      "[CV] END max_depth=8, max_features=7, min_samples_split=8, n_estimators=200; total time=   1.3s\n",
      "[CV] END max_depth=5, max_features=8, min_samples_split=15, n_estimators=100; total time=   0.5s\n",
      "[CV] END max_depth=5, max_features=8, min_samples_split=15, n_estimators=100; total time=   0.6s\n",
      "[CV] END max_depth=None, max_features=auto, min_samples_split=2, n_estimators=1000; total time=  35.5s\n",
      "[CV] END max_depth=None, max_features=7, min_samples_split=20, n_estimators=200; total time=   1.5s\n",
      "[CV] END max_depth=15, max_features=5, min_samples_split=2, n_estimators=100; total time=   0.9s\n",
      "[CV] END max_depth=10, max_features=auto, min_samples_split=15, n_estimators=500; total time=   9.6s\n",
      "[CV] END colsample_bytree=1, learning_rate=0.01, max_depth=30, n_estimators=100; total time=   3.2s\n",
      "[CV] END colsample_bytree=0.3, learning_rate=0.01, max_depth=5, n_estimators=300; total time=   0.6s\n",
      "[CV] END colsample_bytree=0.8, learning_rate=0.1, max_depth=30, n_estimators=300; total time=   4.7s\n",
      "[CV] END colsample_bytree=0.3, learning_rate=0.1, max_depth=12, n_estimators=100; total time=   1.7s\n",
      "[CV] END colsample_bytree=1, learning_rate=0.01, max_depth=12, n_estimators=300; total time=   7.3s\n",
      "[CV] END colsample_bytree=0.5, learning_rate=0.01, max_depth=5, n_estimators=200; total time=   0.4s\n",
      "[CV] END colsample_bytree=0.5, learning_rate=0.01, max_depth=5, n_estimators=200; total time=   0.4s\n",
      "[CV] END colsample_bytree=0.3, learning_rate=0.1, max_depth=20, n_estimators=300; total time=   5.0s\n",
      "[CV] END colsample_bytree=1, learning_rate=0.01, max_depth=8, n_estimators=200; total time=   1.6s\n",
      "[CV] END colsample_bytree=0.4, learning_rate=0.01, max_depth=8, n_estimators=100; total time=   0.5s\n",
      "[CV] END colsample_bytree=0.4, learning_rate=0.01, max_depth=8, n_estimators=100; total time=   0.4s\n",
      "[CV] END colsample_bytree=1, learning_rate=0.1, max_depth=5, n_estimators=300; total time=   0.6s\n",
      "[CV] END colsample_bytree=0.3, learning_rate=0.1, max_depth=30, n_estimators=300; total time=   4.2s\n",
      "[CV] END colsample_bytree=0.5, learning_rate=0.01, max_depth=30, n_estimators=300; total time=   8.6s\n",
      "[CV] END colsample_bytree=1, learning_rate=0.1, max_depth=20, n_estimators=300; total time=   4.4s\n",
      "[CV] END colsample_bytree=0.3, learning_rate=0.01, max_depth=8, n_estimators=100; total time=   0.4s\n",
      "[CV] END colsample_bytree=0.4, learning_rate=0.1, max_depth=20, n_estimators=200; total time=   4.1s\n",
      "[CV] END colsample_bytree=0.8, learning_rate=0.1, max_depth=20, n_estimators=100; total time=   3.9s\n",
      "[CV] END colsample_bytree=0.5, learning_rate=0.1, max_depth=20, n_estimators=100; total time=   3.7s\n",
      "[CV] END colsample_bytree=1, learning_rate=0.01, max_depth=30, n_estimators=200; total time=   5.6s\n",
      "[CV] END colsample_bytree=0.8, learning_rate=0.1, max_depth=30, n_estimators=200; total time=   4.4s\n",
      "[CV] END colsample_bytree=0.4, learning_rate=0.1, max_depth=30, n_estimators=100; total time=   3.8s\n",
      "[CV] END colsample_bytree=0.4, learning_rate=0.01, max_depth=12, n_estimators=300; total time=   4.8s\n",
      "[CV] END colsample_bytree=0.4, learning_rate=0.01, max_depth=8, n_estimators=200; total time=   1.1s\n",
      "[CV] END colsample_bytree=0.4, learning_rate=0.01, max_depth=8, n_estimators=200; total time=   1.0s\n",
      "[CV] END colsample_bytree=0.4, learning_rate=0.01, max_depth=8, n_estimators=300; total time=   1.5s\n",
      "[CV] END colsample_bytree=0.8, learning_rate=0.01, max_depth=12, n_estimators=200; total time=   4.6s\n",
      "[CV] END colsample_bytree=1, learning_rate=0.01, max_depth=20, n_estimators=200; total time=   6.2s\n",
      "[CV] END colsample_bytree=0.8, learning_rate=0.01, max_depth=30, n_estimators=300; total time=   8.7s\n",
      "[CV] END colsample_bytree=0.3, learning_rate=0.1, max_depth=5, n_estimators=100; total time=   0.3s\n",
      "[CV] END colsample_bytree=0.3, learning_rate=0.1, max_depth=5, n_estimators=100; total time=   0.2s\n",
      "[CV] END colsample_bytree=0.3, learning_rate=0.1, max_depth=5, n_estimators=100; total time=   0.3s\n",
      "[CV] END colsample_bytree=0.8, learning_rate=0.1, max_depth=12, n_estimators=200; total time=   3.1s\n",
      "[CV] END colsample_bytree=0.4, learning_rate=0.01, max_depth=20, n_estimators=200; total time=   4.8s\n",
      "[CV] END colsample_bytree=0.8, learning_rate=0.01, max_depth=8, n_estimators=200; total time=   1.5s\n",
      "[CV] END colsample_bytree=1, learning_rate=0.1, max_depth=5, n_estimators=200; total time=   0.5s\n",
      "[CV] END colsample_bytree=1, learning_rate=0.1, max_depth=5, n_estimators=200; total time=   0.5s\n",
      "[CV] END colsample_bytree=0.5, learning_rate=0.1, max_depth=5, n_estimators=300; total time=   0.5s\n",
      "[CV] END colsample_bytree=1, learning_rate=0.1, max_depth=12, n_estimators=100; total time=   2.6s\n",
      "[CV] END colsample_bytree=0.4, learning_rate=0.1, max_depth=5, n_estimators=100; total time=   0.2s\n",
      "[CV] END colsample_bytree=0.5, learning_rate=0.01, max_depth=5, n_estimators=100; total time=   0.2s\n",
      "[CV] END colsample_bytree=0.5, learning_rate=0.01, max_depth=5, n_estimators=100; total time=   0.2s\n",
      "[CV] END colsample_bytree=0.5, learning_rate=0.01, max_depth=20, n_estimators=300; total time=   4.7s\n",
      "[CV] END .....................learning_rate=0.1, max_depth=5; total time=   3.0s\n",
      "[CV] END ....................learning_rate=0.1, max_depth=12; total time= 2.5min\n",
      "[CV] END .....................learning_rate=0.5, max_depth=4; total time=   5.8s\n",
      "[CV] END .....................learning_rate=0.5, max_depth=4; total time=   5.3s\n",
      "[CV] END .....................learning_rate=0.5, max_depth=5; total time=   7.6s\n",
      "[CV] END .....................learning_rate=0.5, max_depth=6; total time=  10.9s\n",
      "[CV] END .....................learning_rate=0.5, max_depth=8; total time=  28.0s\n"
     ]
    },
    {
     "name": "stdout",
     "output_type": "stream",
     "text": [
      "[CV] END max_depth=None, max_features=7, min_samples_split=8, n_estimators=100; total time=   1.0s\n",
      "[CV] END max_depth=None, max_features=8, min_samples_split=20, n_estimators=1000; total time=   9.0s\n",
      "[CV] END max_depth=10, max_features=7, min_samples_split=8, n_estimators=1000; total time=   7.7s\n",
      "[CV] END max_depth=15, max_features=auto, min_samples_split=2, n_estimators=200; total time=   7.3s\n",
      "[CV] END max_depth=10, max_features=auto, min_samples_split=8, n_estimators=200; total time=   4.8s\n",
      "[CV] END max_depth=10, max_features=auto, min_samples_split=20, n_estimators=100; total time=   2.2s\n",
      "[CV] END max_depth=8, max_features=7, min_samples_split=8, n_estimators=500; total time=   3.4s\n",
      "[CV] END max_depth=5, max_features=5, min_samples_split=20, n_estimators=200; total time=   0.8s\n",
      "[CV] END max_depth=5, max_features=5, min_samples_split=20, n_estimators=200; total time=   0.8s\n",
      "[CV] END max_depth=5, max_features=auto, min_samples_split=8, n_estimators=200; total time=   2.6s\n",
      "[CV] END max_depth=5, max_features=8, min_samples_split=8, n_estimators=500; total time=   3.6s\n",
      "[CV] END max_depth=15, max_features=auto, min_samples_split=20, n_estimators=100; total time=   2.4s\n",
      "[CV] END max_depth=15, max_features=auto, min_samples_split=20, n_estimators=200; total time=   5.6s\n",
      "[CV] END max_depth=15, max_features=8, min_samples_split=2, n_estimators=500; total time=   6.3s\n",
      "[CV] END max_depth=5, max_features=5, min_samples_split=8, n_estimators=1000; total time=   4.2s\n",
      "[CV] END max_depth=5, max_features=5, min_samples_split=20, n_estimators=1000; total time=   3.9s\n",
      "[CV] END max_depth=None, max_features=8, min_samples_split=8, n_estimators=100; total time=   1.0s\n",
      "[CV] END max_depth=None, max_features=8, min_samples_split=8, n_estimators=100; total time=   1.0s\n",
      "[CV] END max_depth=5, max_features=auto, min_samples_split=2, n_estimators=1000; total time=  13.5s\n",
      "[CV] END max_depth=None, max_features=7, min_samples_split=2, n_estimators=500; total time=   5.7s\n",
      "[CV] END max_depth=5, max_features=5, min_samples_split=20, n_estimators=500; total time=   1.9s\n",
      "[CV] END max_depth=None, max_features=8, min_samples_split=8, n_estimators=500; total time=   4.8s\n",
      "[CV] END max_depth=5, max_features=5, min_samples_split=15, n_estimators=100; total time=   0.4s\n",
      "[CV] END max_depth=5, max_features=5, min_samples_split=15, n_estimators=1000; total time=   3.8s\n",
      "[CV] END max_depth=5, max_features=5, min_samples_split=8, n_estimators=500; total time=   2.0s\n",
      "[CV] END max_depth=10, max_features=7, min_samples_split=8, n_estimators=200; total time=   1.4s\n",
      "[CV] END max_depth=10, max_features=8, min_samples_split=8, n_estimators=500; total time=   4.1s\n",
      "[CV] END max_depth=None, max_features=7, min_samples_split=15, n_estimators=1000; total time=   7.8s\n",
      "[CV] END max_depth=10, max_features=7, min_samples_split=20, n_estimators=200; total time=   1.4s\n",
      "[CV] END max_depth=10, max_features=auto, min_samples_split=15, n_estimators=1000; total time=  21.8s\n",
      "[CV] END max_depth=8, max_features=auto, min_samples_split=8, n_estimators=500; total time=  10.3s\n",
      "[CV] END max_depth=5, max_features=8, min_samples_split=15, n_estimators=100; total time=   0.6s\n",
      "[CV] END max_depth=None, max_features=auto, min_samples_split=2, n_estimators=1000; total time=  35.6s\n",
      "[CV] END max_depth=None, max_features=7, min_samples_split=20, n_estimators=200; total time=   1.5s\n",
      "[CV] END max_depth=8, max_features=8, min_samples_split=2, n_estimators=200; total time=   1.5s\n",
      "[CV] END max_depth=8, max_features=5, min_samples_split=2, n_estimators=1000; total time=   4.8s\n",
      "[CV] END colsample_bytree=1, learning_rate=0.1, max_depth=12, n_estimators=300; total time=   3.7s\n",
      "[CV] END colsample_bytree=0.3, learning_rate=0.01, max_depth=5, n_estimators=300; total time=   0.6s\n",
      "[CV] END colsample_bytree=0.4, learning_rate=0.1, max_depth=30, n_estimators=200; total time=   4.5s\n",
      "[CV] END colsample_bytree=0.3, learning_rate=0.1, max_depth=12, n_estimators=100; total time=   1.6s\n",
      "[CV] END colsample_bytree=1, learning_rate=0.01, max_depth=12, n_estimators=300; total time=   7.3s\n",
      "[CV] END colsample_bytree=0.5, learning_rate=0.01, max_depth=5, n_estimators=200; total time=   0.5s\n",
      "[CV] END colsample_bytree=0.3, learning_rate=0.1, max_depth=20, n_estimators=300; total time=   4.9s\n",
      "[CV] END colsample_bytree=1, learning_rate=0.1, max_depth=20, n_estimators=200; total time=   4.5s\n",
      "[CV] END colsample_bytree=0.8, learning_rate=0.1, max_depth=8, n_estimators=200; total time=   1.3s\n",
      "[CV] END colsample_bytree=0.5, learning_rate=0.01, max_depth=12, n_estimators=300; total time=   5.2s\n",
      "[CV] END colsample_bytree=0.3, learning_rate=0.1, max_depth=12, n_estimators=300; total time=   3.2s\n",
      "[CV] END colsample_bytree=1, learning_rate=0.01, max_depth=30, n_estimators=300; total time=  10.2s\n",
      "[CV] END colsample_bytree=0.4, learning_rate=0.01, max_depth=30, n_estimators=300; total time=   8.3s\n",
      "[CV] END colsample_bytree=0.4, learning_rate=0.1, max_depth=30, n_estimators=300; total time=   3.5s\n",
      "[CV] END colsample_bytree=0.4, learning_rate=0.1, max_depth=8, n_estimators=300; total time=   1.2s\n",
      "[CV] END colsample_bytree=0.8, learning_rate=0.1, max_depth=30, n_estimators=200; total time=   4.3s\n",
      "[CV] END colsample_bytree=0.4, learning_rate=0.01, max_depth=5, n_estimators=300; total time=   0.6s\n",
      "[CV] END colsample_bytree=0.8, learning_rate=0.1, max_depth=12, n_estimators=300; total time=   3.2s\n",
      "[CV] END colsample_bytree=0.3, learning_rate=0.1, max_depth=5, n_estimators=300; total time=   0.5s\n",
      "[CV] END colsample_bytree=0.3, learning_rate=0.01, max_depth=30, n_estimators=100; total time=   2.1s\n",
      "[CV] END colsample_bytree=0.4, learning_rate=0.1, max_depth=12, n_estimators=300; total time=   3.0s\n",
      "[CV] END colsample_bytree=0.5, learning_rate=0.1, max_depth=20, n_estimators=200; total time=   3.7s\n",
      "[CV] END colsample_bytree=0.5, learning_rate=0.1, max_depth=12, n_estimators=200; total time=   3.3s\n",
      "[CV] END colsample_bytree=0.3, learning_rate=0.01, max_depth=8, n_estimators=200; total time=   0.9s\n",
      "[CV] END colsample_bytree=0.4, learning_rate=0.01, max_depth=30, n_estimators=100; total time=   2.2s\n",
      "[CV] END colsample_bytree=1, learning_rate=0.01, max_depth=20, n_estimators=200; total time=   6.2s\n",
      "[CV] END colsample_bytree=0.4, learning_rate=0.01, max_depth=12, n_estimators=200; total time=   2.5s\n",
      "[CV] END colsample_bytree=0.8, learning_rate=0.01, max_depth=12, n_estimators=300; total time=   6.1s\n",
      "[CV] END colsample_bytree=0.8, learning_rate=0.01, max_depth=20, n_estimators=300; total time=   9.4s\n",
      "[CV] END colsample_bytree=1, learning_rate=0.1, max_depth=5, n_estimators=200; total time=   0.4s\n",
      "[CV] END colsample_bytree=0.5, learning_rate=0.1, max_depth=5, n_estimators=300; total time=   0.5s\n",
      "[CV] END colsample_bytree=1, learning_rate=0.1, max_depth=12, n_estimators=100; total time=   2.4s\n",
      "[CV] END colsample_bytree=0.5, learning_rate=0.1, max_depth=30, n_estimators=100; total time=   3.0s\n",
      "[CV] END .....................learning_rate=0.1, max_depth=6; total time=   5.1s\n",
      "[CV] END ....................learning_rate=0.1, max_depth=12; total time= 2.5min\n",
      "[CV] END .....................learning_rate=0.5, max_depth=4; total time=   5.5s\n",
      "[CV] END .....................learning_rate=0.5, max_depth=5; total time=   7.5s\n",
      "[CV] END .....................learning_rate=0.5, max_depth=5; total time=   7.2s\n",
      "[CV] END .....................learning_rate=0.5, max_depth=6; total time=  12.3s\n",
      "[CV] END .....................learning_rate=0.5, max_depth=8; total time=  28.3s\n",
      "[CV] END max_depth=8, max_features=7, min_samples_split=15, n_estimators=200; total time=   1.5s\n",
      "[CV] END max_depth=None, max_features=8, min_samples_split=20, n_estimators=1000; total time=   8.9s\n",
      "[CV] END max_depth=5, max_features=8, min_samples_split=2, n_estimators=100; total time=   0.5s\n",
      "[CV] END max_depth=5, max_features=8, min_samples_split=2, n_estimators=100; total time=   0.5s\n",
      "[CV] END max_depth=5, max_features=8, min_samples_split=2, n_estimators=100; total time=   0.5s\n",
      "[CV] END max_depth=None, max_features=7, min_samples_split=20, n_estimators=100; total time=   0.7s\n",
      "[CV] END max_depth=None, max_features=7, min_samples_split=20, n_estimators=100; total time=   0.7s\n",
      "[CV] END max_depth=None, max_features=8, min_samples_split=2, n_estimators=100; total time=   1.7s\n",
      "[CV] END max_depth=15, max_features=auto, min_samples_split=2, n_estimators=200; total time=   7.1s\n",
      "[CV] END max_depth=15, max_features=8, min_samples_split=8, n_estimators=200; total time=   2.3s\n",
      "[CV] END max_depth=15, max_features=7, min_samples_split=15, n_estimators=500; total time=   4.2s\n",
      "[CV] END max_depth=5, max_features=8, min_samples_split=15, n_estimators=500; total time=   2.4s\n",
      "[CV] END max_depth=10, max_features=auto, min_samples_split=20, n_estimators=100; total time=   2.4s\n",
      "[CV] END max_depth=10, max_features=auto, min_samples_split=2, n_estimators=1000; total time=  27.9s\n",
      "[CV] END max_depth=5, max_features=5, min_samples_split=20, n_estimators=1000; total time=   3.8s\n",
      "[CV] END max_depth=10, max_features=auto, min_samples_split=15, n_estimators=100; total time=   2.3s\n",
      "[CV] END max_depth=5, max_features=auto, min_samples_split=2, n_estimators=1000; total time=  13.5s\n",
      "[CV] END max_depth=15, max_features=8, min_samples_split=8, n_estimators=1000; total time=   9.4s\n",
      "[CV] END max_depth=5, max_features=auto, min_samples_split=2, n_estimators=500; total time=   6.6s\n",
      "[CV] END max_depth=5, max_features=5, min_samples_split=8, n_estimators=500; total time=   1.9s\n",
      "[CV] END max_depth=8, max_features=auto, min_samples_split=2, n_estimators=200; total time=   4.1s\n",
      "[CV] END max_depth=15, max_features=8, min_samples_split=2, n_estimators=100; total time=   1.2s\n",
      "[CV] END max_depth=None, max_features=5, min_samples_split=15, n_estimators=1000; total time=   6.2s\n",
      "[CV] END max_depth=15, max_features=7, min_samples_split=8, n_estimators=500; total time=   4.4s\n",
      "[CV] END max_depth=8, max_features=7, min_samples_split=8, n_estimators=1000; total time=   6.1s\n",
      "[CV] END max_depth=10, max_features=7, min_samples_split=20, n_estimators=500; total time=   3.4s\n",
      "[CV] END max_depth=None, max_features=auto, min_samples_split=2, n_estimators=500; total time=  17.8s\n",
      "[CV] END max_depth=5, max_features=7, min_samples_split=15, n_estimators=100; total time=   0.5s\n",
      "[CV] END max_depth=5, max_features=7, min_samples_split=15, n_estimators=100; total time=   0.5s\n",
      "[CV] END max_depth=None, max_features=5, min_samples_split=8, n_estimators=100; total time=   0.8s\n",
      "[CV] END max_depth=None, max_features=8, min_samples_split=8, n_estimators=1000; total time=  10.3s\n",
      "[CV] END max_depth=None, max_features=5, min_samples_split=20, n_estimators=500; total time=   3.0s\n",
      "[CV] END max_depth=None, max_features=7, min_samples_split=20, n_estimators=500; total time=   3.8s\n",
      "[CV] END max_depth=15, max_features=5, min_samples_split=8, n_estimators=1000; total time=   7.0s\n",
      "[CV] END max_depth=15, max_features=auto, min_samples_split=8, n_estimators=500; total time=  13.2s\n",
      "[CV] END max_depth=8, max_features=8, min_samples_split=15, n_estimators=500; total time=   3.5s\n",
      "[CV] END max_depth=10, max_features=auto, min_samples_split=15, n_estimators=500; total time=   9.7s\n",
      "[CV] END colsample_bytree=1, learning_rate=0.1, max_depth=12, n_estimators=300; total time=   3.9s\n",
      "[CV] END colsample_bytree=0.8, learning_rate=0.1, max_depth=30, n_estimators=300; total time=   4.5s\n",
      "[CV] END colsample_bytree=0.3, learning_rate=0.01, max_depth=20, n_estimators=200; total time=   3.8s\n",
      "[CV] END colsample_bytree=0.5, learning_rate=0.01, max_depth=30, n_estimators=200; total time=   5.0s\n",
      "[CV] END colsample_bytree=0.4, learning_rate=0.01, max_depth=20, n_estimators=300; total time=   8.6s\n",
      "[CV] END colsample_bytree=1, learning_rate=0.1, max_depth=5, n_estimators=100; total time=   0.2s\n",
      "[CV] END colsample_bytree=1, learning_rate=0.1, max_depth=5, n_estimators=300; total time=   0.7s\n",
      "[CV] END colsample_bytree=0.3, learning_rate=0.1, max_depth=30, n_estimators=300; total time=   4.4s\n",
      "[CV] END colsample_bytree=0.3, learning_rate=0.1, max_depth=12, n_estimators=300; total time=   3.2s\n",
      "[CV] END colsample_bytree=1, learning_rate=0.1, max_depth=20, n_estimators=100; total time=   4.3s\n",
      "[CV] END colsample_bytree=0.8, learning_rate=0.1, max_depth=5, n_estimators=200; total time=   0.4s\n",
      "[CV] END colsample_bytree=0.3, learning_rate=0.1, max_depth=8, n_estimators=200; total time=   0.8s\n",
      "[CV] END colsample_bytree=0.8, learning_rate=0.01, max_depth=30, n_estimators=200; total time=   5.1s\n",
      "[CV] END colsample_bytree=0.4, learning_rate=0.01, max_depth=30, n_estimators=300; total time=   8.4s\n",
      "[CV] END colsample_bytree=1, learning_rate=0.01, max_depth=12, n_estimators=200; total time=   4.7s\n",
      "[CV] END colsample_bytree=1, learning_rate=0.01, max_depth=5, n_estimators=200; total time=   0.5s\n",
      "[CV] END colsample_bytree=0.4, learning_rate=0.1, max_depth=8, n_estimators=200; total time=   0.8s\n",
      "[CV] END colsample_bytree=0.5, learning_rate=0.01, max_depth=20, n_estimators=200; total time=   5.2s\n",
      "[CV] END colsample_bytree=0.4, learning_rate=0.01, max_depth=5, n_estimators=300; total time=   0.6s\n",
      "[CV] END colsample_bytree=0.8, learning_rate=0.1, max_depth=12, n_estimators=300; total time=   3.3s\n",
      "[CV] END colsample_bytree=0.3, learning_rate=0.1, max_depth=5, n_estimators=300; total time=   0.6s\n",
      "[CV] END colsample_bytree=0.3, learning_rate=0.1, max_depth=5, n_estimators=300; total time=   0.5s\n",
      "[CV] END colsample_bytree=0.3, learning_rate=0.01, max_depth=30, n_estimators=100; total time=   2.1s\n",
      "[CV] END colsample_bytree=0.4, learning_rate=0.1, max_depth=12, n_estimators=300; total time=   2.9s\n",
      "[CV] END colsample_bytree=0.4, learning_rate=0.1, max_depth=12, n_estimators=200; total time=   2.8s\n",
      "[CV] END colsample_bytree=0.5, learning_rate=0.1, max_depth=5, n_estimators=200; total time=   0.3s\n",
      "[CV] END colsample_bytree=0.4, learning_rate=0.1, max_depth=20, n_estimators=100; total time=   3.9s\n",
      "[CV] END colsample_bytree=0.8, learning_rate=0.1, max_depth=5, n_estimators=100; total time=   0.2s\n",
      "[CV] END colsample_bytree=0.5, learning_rate=0.1, max_depth=12, n_estimators=300; total time=   2.9s\n",
      "[CV] END colsample_bytree=0.4, learning_rate=0.1, max_depth=20, n_estimators=300; total time=   4.1s\n",
      "[CV] END colsample_bytree=0.3, learning_rate=0.01, max_depth=12, n_estimators=100; total time=   1.0s\n",
      "[CV] END colsample_bytree=0.8, learning_rate=0.01, max_depth=30, n_estimators=300; total time=   8.8s\n",
      "[CV] END colsample_bytree=0.8, learning_rate=0.1, max_depth=12, n_estimators=200; total time=   3.2s\n",
      "[CV] END colsample_bytree=0.4, learning_rate=0.01, max_depth=20, n_estimators=200; total time=   4.7s\n",
      "[CV] END colsample_bytree=0.8, learning_rate=0.01, max_depth=8, n_estimators=200; total time=   1.3s\n",
      "[CV] END colsample_bytree=0.8, learning_rate=0.01, max_depth=8, n_estimators=200; total time=   1.2s\n",
      "[CV] END colsample_bytree=0.8, learning_rate=0.01, max_depth=20, n_estimators=200; total time=   5.3s\n",
      "[CV] END .....................learning_rate=0.1, max_depth=5; total time=   2.9s\n",
      "[CV] END .....................learning_rate=0.1, max_depth=8; total time=  19.5s\n",
      "[CV] END ....................learning_rate=0.01, max_depth=8; total time=  24.0s\n",
      "[CV] END .....................learning_rate=0.6, max_depth=4; total time=   5.1s\n",
      "[CV] END .....................learning_rate=0.6, max_depth=4; total time=   4.8s\n",
      "[CV] END .....................learning_rate=0.6, max_depth=5; total time=   7.4s\n",
      "[CV] END .....................learning_rate=0.6, max_depth=6; total time=  11.4s\n",
      "[CV] END .....................learning_rate=0.6, max_depth=6; total time=  12.0s\n",
      "[CV] END .....................learning_rate=0.6, max_depth=8; total time=  29.6s\n",
      "[CV] END ....................learning_rate=0.6, max_depth=12; total time= 2.6min\n"
     ]
    },
    {
     "name": "stdout",
     "output_type": "stream",
     "text": [
      "[CV] END max_depth=15, max_features=5, min_samples_split=15, n_estimators=1000; total time=   7.5s\n",
      "[CV] END max_depth=8, max_features=5, min_samples_split=8, n_estimators=500; total time=   2.8s\n",
      "[CV] END max_depth=10, max_features=7, min_samples_split=8, n_estimators=1000; total time=   7.8s\n",
      "[CV] END max_depth=15, max_features=7, min_samples_split=2, n_estimators=200; total time=   2.4s\n",
      "[CV] END max_depth=15, max_features=7, min_samples_split=2, n_estimators=200; total time=   2.1s\n",
      "[CV] END max_depth=15, max_features=7, min_samples_split=15, n_estimators=500; total time=   4.6s\n",
      "[CV] END max_depth=10, max_features=auto, min_samples_split=8, n_estimators=200; total time=   4.7s\n",
      "[CV] END max_depth=8, max_features=7, min_samples_split=8, n_estimators=500; total time=   3.5s\n",
      "[CV] END max_depth=10, max_features=auto, min_samples_split=2, n_estimators=1000; total time=  28.1s\n",
      "[CV] END max_depth=10, max_features=auto, min_samples_split=15, n_estimators=100; total time=   2.4s\n",
      "[CV] END max_depth=None, max_features=8, min_samples_split=8, n_estimators=100; total time=   0.9s\n",
      "[CV] END max_depth=8, max_features=auto, min_samples_split=2, n_estimators=500; total time=  10.6s\n",
      "[CV] END max_depth=None, max_features=auto, min_samples_split=20, n_estimators=500; total time=  11.2s\n",
      "[CV] END max_depth=None, max_features=8, min_samples_split=8, n_estimators=500; total time=   4.9s\n",
      "[CV] END max_depth=8, max_features=5, min_samples_split=2, n_estimators=200; total time=   1.0s\n",
      "[CV] END max_depth=10, max_features=5, min_samples_split=15, n_estimators=1000; total time=   5.7s\n",
      "[CV] END max_depth=10, max_features=8, min_samples_split=8, n_estimators=500; total time=   4.2s\n",
      "[CV] END max_depth=None, max_features=5, min_samples_split=15, n_estimators=1000; total time=   6.2s\n",
      "[CV] END max_depth=5, max_features=auto, min_samples_split=8, n_estimators=100; total time=   1.3s\n",
      "[CV] END max_depth=5, max_features=auto, min_samples_split=8, n_estimators=100; total time=   1.3s\n",
      "[CV] END max_depth=10, max_features=7, min_samples_split=20, n_estimators=200; total time=   1.4s\n",
      "[CV] END max_depth=10, max_features=auto, min_samples_split=15, n_estimators=1000; total time=  21.8s\n",
      "[CV] END max_depth=8, max_features=8, min_samples_split=8, n_estimators=1000; total time=   7.3s\n",
      "[CV] END max_depth=None, max_features=8, min_samples_split=8, n_estimators=1000; total time=  10.2s\n",
      "[CV] END max_depth=8, max_features=7, min_samples_split=15, n_estimators=1000; total time=   6.3s\n",
      "[CV] END max_depth=15, max_features=5, min_samples_split=8, n_estimators=1000; total time=   7.1s\n",
      "[CV] END max_depth=15, max_features=auto, min_samples_split=8, n_estimators=500; total time=  13.6s\n",
      "[CV] END max_depth=10, max_features=7, min_samples_split=2, n_estimators=500; total time=   4.0s\n",
      "[CV] END max_depth=10, max_features=auto, min_samples_split=15, n_estimators=500; total time=   9.8s\n",
      "[CV] END colsample_bytree=1, learning_rate=0.01, max_depth=30, n_estimators=100; total time=   3.0s\n",
      "[CV] END colsample_bytree=0.5, learning_rate=0.01, max_depth=30, n_estimators=100; total time=   2.4s\n",
      "[CV] END colsample_bytree=0.3, learning_rate=0.01, max_depth=20, n_estimators=200; total time=   4.2s\n",
      "[CV] END colsample_bytree=0.8, learning_rate=0.01, max_depth=30, n_estimators=100; total time=   2.5s\n",
      "[CV] END colsample_bytree=0.3, learning_rate=0.01, max_depth=20, n_estimators=300; total time=   6.8s\n",
      "[CV] END colsample_bytree=1, learning_rate=0.1, max_depth=20, n_estimators=200; total time=   5.3s\n",
      "[CV] END colsample_bytree=1, learning_rate=0.01, max_depth=8, n_estimators=200; total time=   1.5s\n",
      "[CV] END colsample_bytree=1, learning_rate=0.1, max_depth=5, n_estimators=100; total time=   0.2s\n",
      "[CV] END colsample_bytree=0.8, learning_rate=0.1, max_depth=30, n_estimators=100; total time=   3.7s\n",
      "[CV] END colsample_bytree=0.5, learning_rate=0.01, max_depth=12, n_estimators=300; total time=   5.2s\n",
      "[CV] END colsample_bytree=1, learning_rate=0.1, max_depth=20, n_estimators=100; total time=   4.3s\n",
      "[CV] END colsample_bytree=1, learning_rate=0.1, max_depth=20, n_estimators=300; total time=   4.3s\n",
      "[CV] END colsample_bytree=0.8, learning_rate=0.01, max_depth=30, n_estimators=200; total time=   5.7s\n",
      "[CV] END colsample_bytree=0.8, learning_rate=0.01, max_depth=12, n_estimators=100; total time=   1.7s\n",
      "[CV] END colsample_bytree=0.5, learning_rate=0.1, max_depth=20, n_estimators=100; total time=   3.6s\n",
      "[CV] END colsample_bytree=0.4, learning_rate=0.1, max_depth=30, n_estimators=300; total time=   3.9s\n",
      "[CV] END colsample_bytree=0.4, learning_rate=0.1, max_depth=8, n_estimators=200; total time=   0.8s\n",
      "[CV] END colsample_bytree=0.5, learning_rate=0.01, max_depth=20, n_estimators=200; total time=   5.1s\n",
      "[CV] END colsample_bytree=0.4, learning_rate=0.01, max_depth=5, n_estimators=300; total time=   0.6s\n",
      "[CV] END colsample_bytree=0.8, learning_rate=0.1, max_depth=12, n_estimators=300; total time=   3.2s\n",
      "[CV] END colsample_bytree=0.3, learning_rate=0.1, max_depth=30, n_estimators=100; total time=   3.5s\n",
      "[CV] END colsample_bytree=0.4, learning_rate=0.1, max_depth=12, n_estimators=300; total time=   2.8s\n",
      "[CV] END colsample_bytree=0.4, learning_rate=0.1, max_depth=12, n_estimators=200; total time=   2.8s\n",
      "[CV] END colsample_bytree=0.5, learning_rate=0.1, max_depth=5, n_estimators=200; total time=   0.4s\n",
      "[CV] END colsample_bytree=0.5, learning_rate=0.1, max_depth=12, n_estimators=200; total time=   3.2s\n",
      "[CV] END colsample_bytree=0.8, learning_rate=0.01, max_depth=12, n_estimators=200; total time=   3.8s\n",
      "[CV] END colsample_bytree=0.4, learning_rate=0.1, max_depth=20, n_estimators=300; total time=   4.0s\n",
      "[CV] END colsample_bytree=0.8, learning_rate=0.1, max_depth=20, n_estimators=200; total time=   3.7s\n",
      "[CV] END colsample_bytree=0.5, learning_rate=0.1, max_depth=5, n_estimators=100; total time=   0.2s\n",
      "[CV] END colsample_bytree=0.8, learning_rate=0.01, max_depth=5, n_estimators=200; total time=   0.5s\n",
      "[CV] END colsample_bytree=0.8, learning_rate=0.01, max_depth=5, n_estimators=200; total time=   0.4s\n",
      "[CV] END colsample_bytree=0.8, learning_rate=0.01, max_depth=12, n_estimators=300; total time=   6.2s\n",
      "[CV] END colsample_bytree=0.8, learning_rate=0.01, max_depth=20, n_estimators=300; total time=   9.4s\n",
      "[CV] END colsample_bytree=0.8, learning_rate=0.01, max_depth=20, n_estimators=200; total time=   5.3s\n",
      "[CV] END .....................learning_rate=0.1, max_depth=4; total time=   1.9s\n",
      "[CV] END .....................learning_rate=0.1, max_depth=6; total time=   6.5s\n",
      "[CV] END ....................learning_rate=0.01, max_depth=4; total time=   3.2s\n",
      "[CV] END ....................learning_rate=0.01, max_depth=5; total time=   4.9s\n",
      "[CV] END ....................learning_rate=0.01, max_depth=6; total time=   8.0s\n",
      "[CV] END ....................learning_rate=0.01, max_depth=8; total time=  25.2s\n",
      "[CV] END .....................learning_rate=0.6, max_depth=4; total time=   4.7s\n",
      "[CV] END .....................learning_rate=0.6, max_depth=5; total time=   7.3s\n",
      "[CV] END .....................learning_rate=0.6, max_depth=5; total time=   7.8s\n",
      "[CV] END .....................learning_rate=0.6, max_depth=6; total time=  10.6s\n",
      "[CV] END .....................learning_rate=0.6, max_depth=8; total time=  30.7s\n",
      "[CV] END .....................learning_rate=0.6, max_depth=8; total time=  34.3s\n",
      "[CV] END ....................learning_rate=0.6, max_depth=12; total time= 2.4min\n"
     ]
    }
   ],
   "source": [
    "retrained_report"
   ]
  },
  {
   "cell_type": "markdown",
   "id": "90101850",
   "metadata": {},
   "source": [
    "### Best Model is CATBoost Regressor with 97.17% Score"
   ]
  },
  {
   "cell_type": "code",
   "execution_count": null,
   "id": "cb81768a",
   "metadata": {},
   "outputs": [],
   "source": []
  }
 ],
 "metadata": {
  "kernelspec": {
   "display_name": "Python 3 (ipykernel)",
   "language": "python",
   "name": "python3"
  },
  "language_info": {
   "codemirror_mode": {
    "name": "ipython",
    "version": 3
   },
   "file_extension": ".py",
   "mimetype": "text/x-python",
   "name": "python",
   "nbconvert_exporter": "python",
   "pygments_lexer": "ipython3",
   "version": "3.10.9"
  },
  "vscode": {
   "interpreter": {
    "hash": "6e0056b0d8d6e142b7ce7d74e16dfdf922dbb0f4299bed7705466a54f7277f59"
   }
  }
 },
 "nbformat": 4,
 "nbformat_minor": 5
}
